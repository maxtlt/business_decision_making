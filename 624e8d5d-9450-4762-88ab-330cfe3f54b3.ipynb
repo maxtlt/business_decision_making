{
 "cells": [
  {
   "cell_type": "markdown",
   "metadata": {},
   "source": [
    "<h1>Анализ гипотез для увеличения выручки интернет магазина</h1>"
   ]
  },
  {
   "cell_type": "markdown",
   "metadata": {},
   "source": [
    " <h2>Краткое описание проекта</h2>"
   ]
  },
  {
   "cell_type": "markdown",
   "metadata": {},
   "source": [
    "Совместно с отделом маркетинга интернет магазина подготовлен список гипотез для увеличения выручки"
   ]
  },
  {
   "cell_type": "markdown",
   "metadata": {},
   "source": [
    "<h2>Цель проекта</h2>"
   ]
  },
  {
   "cell_type": "markdown",
   "metadata": {},
   "source": [
    "Понять приведут ли изменения, указанные в гипотезах, к лучшему результату"
   ]
  },
  {
   "cell_type": "markdown",
   "metadata": {},
   "source": [
    "<h2>План работы</h2>"
   ]
  },
  {
   "cell_type": "markdown",
   "metadata": {},
   "source": [
    "* приоритизация гипотез;\n",
    "* запуск A/B-тестов;\n",
    "* анализ результатов."
   ]
  },
  {
   "cell_type": "markdown",
   "metadata": {},
   "source": [
    "<h3> Приоритизация гипотез </h3>"
   ]
  },
  {
   "cell_type": "code",
   "execution_count": 1,
   "metadata": {},
   "outputs": [],
   "source": [
    "import pandas as pd\n",
    "import scipy.stats as stats\n",
    "import datetime as dt\n",
    "import numpy as np\n",
    "import matplotlib.pyplot as plt\n",
    "import seaborn as sns\n",
    "from scipy import stats as st"
   ]
  },
  {
   "cell_type": "markdown",
   "metadata": {},
   "source": [
    "Откроем датафрейм с перечислением гипотез"
   ]
  },
  {
   "cell_type": "code",
   "execution_count": 2,
   "metadata": {},
   "outputs": [
    {
     "data": {
      "text/html": [
       "<div>\n",
       "<style scoped>\n",
       "    .dataframe tbody tr th:only-of-type {\n",
       "        vertical-align: middle;\n",
       "    }\n",
       "\n",
       "    .dataframe tbody tr th {\n",
       "        vertical-align: top;\n",
       "    }\n",
       "\n",
       "    .dataframe thead th {\n",
       "        text-align: right;\n",
       "    }\n",
       "</style>\n",
       "<table border=\"1\" class=\"dataframe\">\n",
       "  <thead>\n",
       "    <tr style=\"text-align: right;\">\n",
       "      <th></th>\n",
       "      <th>Hypothesis</th>\n",
       "      <th>Reach</th>\n",
       "      <th>Impact</th>\n",
       "      <th>Confidence</th>\n",
       "      <th>Efforts</th>\n",
       "    </tr>\n",
       "  </thead>\n",
       "  <tbody>\n",
       "    <tr>\n",
       "      <th>0</th>\n",
       "      <td>Добавить два новых канала привлечения трафика,...</td>\n",
       "      <td>3</td>\n",
       "      <td>10</td>\n",
       "      <td>8</td>\n",
       "      <td>6</td>\n",
       "    </tr>\n",
       "    <tr>\n",
       "      <th>1</th>\n",
       "      <td>Запустить собственную службу доставки, что сок...</td>\n",
       "      <td>2</td>\n",
       "      <td>5</td>\n",
       "      <td>4</td>\n",
       "      <td>10</td>\n",
       "    </tr>\n",
       "    <tr>\n",
       "      <th>2</th>\n",
       "      <td>Добавить блоки рекомендаций товаров на сайт ин...</td>\n",
       "      <td>8</td>\n",
       "      <td>3</td>\n",
       "      <td>7</td>\n",
       "      <td>3</td>\n",
       "    </tr>\n",
       "    <tr>\n",
       "      <th>3</th>\n",
       "      <td>Изменить структура категорий, что увеличит кон...</td>\n",
       "      <td>8</td>\n",
       "      <td>3</td>\n",
       "      <td>3</td>\n",
       "      <td>8</td>\n",
       "    </tr>\n",
       "    <tr>\n",
       "      <th>4</th>\n",
       "      <td>Изменить цвет фона главной страницы, чтобы уве...</td>\n",
       "      <td>3</td>\n",
       "      <td>1</td>\n",
       "      <td>1</td>\n",
       "      <td>1</td>\n",
       "    </tr>\n",
       "    <tr>\n",
       "      <th>5</th>\n",
       "      <td>Добавить страницу отзывов клиентов о магазине,...</td>\n",
       "      <td>3</td>\n",
       "      <td>2</td>\n",
       "      <td>2</td>\n",
       "      <td>3</td>\n",
       "    </tr>\n",
       "    <tr>\n",
       "      <th>6</th>\n",
       "      <td>Показать на главной странице баннеры с актуаль...</td>\n",
       "      <td>5</td>\n",
       "      <td>3</td>\n",
       "      <td>8</td>\n",
       "      <td>3</td>\n",
       "    </tr>\n",
       "    <tr>\n",
       "      <th>7</th>\n",
       "      <td>Добавить форму подписки на все основные страни...</td>\n",
       "      <td>10</td>\n",
       "      <td>7</td>\n",
       "      <td>8</td>\n",
       "      <td>5</td>\n",
       "    </tr>\n",
       "    <tr>\n",
       "      <th>8</th>\n",
       "      <td>Запустить акцию, дающую скидку на товар в день...</td>\n",
       "      <td>1</td>\n",
       "      <td>9</td>\n",
       "      <td>9</td>\n",
       "      <td>5</td>\n",
       "    </tr>\n",
       "  </tbody>\n",
       "</table>\n",
       "</div>"
      ],
      "text/plain": [
       "                                          Hypothesis  Reach  Impact  \\\n",
       "0  Добавить два новых канала привлечения трафика,...      3      10   \n",
       "1  Запустить собственную службу доставки, что сок...      2       5   \n",
       "2  Добавить блоки рекомендаций товаров на сайт ин...      8       3   \n",
       "3  Изменить структура категорий, что увеличит кон...      8       3   \n",
       "4  Изменить цвет фона главной страницы, чтобы уве...      3       1   \n",
       "5  Добавить страницу отзывов клиентов о магазине,...      3       2   \n",
       "6  Показать на главной странице баннеры с актуаль...      5       3   \n",
       "7  Добавить форму подписки на все основные страни...     10       7   \n",
       "8  Запустить акцию, дающую скидку на товар в день...      1       9   \n",
       "\n",
       "   Confidence  Efforts  \n",
       "0           8        6  \n",
       "1           4       10  \n",
       "2           7        3  \n",
       "3           3        8  \n",
       "4           1        1  \n",
       "5           2        3  \n",
       "6           8        3  \n",
       "7           8        5  \n",
       "8           9        5  "
      ]
     },
     "execution_count": 2,
     "metadata": {},
     "output_type": "execute_result"
    }
   ],
   "source": [
    "hypothesis = pd.read_csv('hypothesis.csv')\n",
    "hypothesis"
   ]
  },
  {
   "cell_type": "markdown",
   "metadata": {},
   "source": [
    "Приведём название столбцов к нижнему регистру"
   ]
  },
  {
   "cell_type": "code",
   "execution_count": 3,
   "metadata": {},
   "outputs": [],
   "source": [
    "hypothesis.columns = hypothesis.columns.str.lower()"
   ]
  },
  {
   "cell_type": "markdown",
   "metadata": {},
   "source": [
    "Применим фреймворк ICE для приоритизации гипотез. Затем отсортируем их по убыванию приоритета."
   ]
  },
  {
   "cell_type": "code",
   "execution_count": 4,
   "metadata": {},
   "outputs": [
    {
     "data": {
      "text/html": [
       "<div>\n",
       "<style scoped>\n",
       "    .dataframe tbody tr th:only-of-type {\n",
       "        vertical-align: middle;\n",
       "    }\n",
       "\n",
       "    .dataframe tbody tr th {\n",
       "        vertical-align: top;\n",
       "    }\n",
       "\n",
       "    .dataframe thead th {\n",
       "        text-align: right;\n",
       "    }\n",
       "</style>\n",
       "<table border=\"1\" class=\"dataframe\">\n",
       "  <thead>\n",
       "    <tr style=\"text-align: right;\">\n",
       "      <th></th>\n",
       "      <th>hypothesis</th>\n",
       "      <th>reach</th>\n",
       "      <th>impact</th>\n",
       "      <th>confidence</th>\n",
       "      <th>efforts</th>\n",
       "      <th>ice</th>\n",
       "    </tr>\n",
       "  </thead>\n",
       "  <tbody>\n",
       "    <tr>\n",
       "      <th>8</th>\n",
       "      <td>Запустить акцию, дающую скидку на товар в день...</td>\n",
       "      <td>1</td>\n",
       "      <td>9</td>\n",
       "      <td>9</td>\n",
       "      <td>5</td>\n",
       "      <td>16.20</td>\n",
       "    </tr>\n",
       "    <tr>\n",
       "      <th>0</th>\n",
       "      <td>Добавить два новых канала привлечения трафика,...</td>\n",
       "      <td>3</td>\n",
       "      <td>10</td>\n",
       "      <td>8</td>\n",
       "      <td>6</td>\n",
       "      <td>13.33</td>\n",
       "    </tr>\n",
       "    <tr>\n",
       "      <th>7</th>\n",
       "      <td>Добавить форму подписки на все основные страни...</td>\n",
       "      <td>10</td>\n",
       "      <td>7</td>\n",
       "      <td>8</td>\n",
       "      <td>5</td>\n",
       "      <td>11.20</td>\n",
       "    </tr>\n",
       "    <tr>\n",
       "      <th>6</th>\n",
       "      <td>Показать на главной странице баннеры с актуаль...</td>\n",
       "      <td>5</td>\n",
       "      <td>3</td>\n",
       "      <td>8</td>\n",
       "      <td>3</td>\n",
       "      <td>8.00</td>\n",
       "    </tr>\n",
       "    <tr>\n",
       "      <th>2</th>\n",
       "      <td>Добавить блоки рекомендаций товаров на сайт ин...</td>\n",
       "      <td>8</td>\n",
       "      <td>3</td>\n",
       "      <td>7</td>\n",
       "      <td>3</td>\n",
       "      <td>7.00</td>\n",
       "    </tr>\n",
       "    <tr>\n",
       "      <th>1</th>\n",
       "      <td>Запустить собственную службу доставки, что сок...</td>\n",
       "      <td>2</td>\n",
       "      <td>5</td>\n",
       "      <td>4</td>\n",
       "      <td>10</td>\n",
       "      <td>2.00</td>\n",
       "    </tr>\n",
       "    <tr>\n",
       "      <th>5</th>\n",
       "      <td>Добавить страницу отзывов клиентов о магазине,...</td>\n",
       "      <td>3</td>\n",
       "      <td>2</td>\n",
       "      <td>2</td>\n",
       "      <td>3</td>\n",
       "      <td>1.33</td>\n",
       "    </tr>\n",
       "    <tr>\n",
       "      <th>3</th>\n",
       "      <td>Изменить структура категорий, что увеличит кон...</td>\n",
       "      <td>8</td>\n",
       "      <td>3</td>\n",
       "      <td>3</td>\n",
       "      <td>8</td>\n",
       "      <td>1.12</td>\n",
       "    </tr>\n",
       "    <tr>\n",
       "      <th>4</th>\n",
       "      <td>Изменить цвет фона главной страницы, чтобы уве...</td>\n",
       "      <td>3</td>\n",
       "      <td>1</td>\n",
       "      <td>1</td>\n",
       "      <td>1</td>\n",
       "      <td>1.00</td>\n",
       "    </tr>\n",
       "  </tbody>\n",
       "</table>\n",
       "</div>"
      ],
      "text/plain": [
       "                                          hypothesis  reach  impact  \\\n",
       "8  Запустить акцию, дающую скидку на товар в день...      1       9   \n",
       "0  Добавить два новых канала привлечения трафика,...      3      10   \n",
       "7  Добавить форму подписки на все основные страни...     10       7   \n",
       "6  Показать на главной странице баннеры с актуаль...      5       3   \n",
       "2  Добавить блоки рекомендаций товаров на сайт ин...      8       3   \n",
       "1  Запустить собственную службу доставки, что сок...      2       5   \n",
       "5  Добавить страницу отзывов клиентов о магазине,...      3       2   \n",
       "3  Изменить структура категорий, что увеличит кон...      8       3   \n",
       "4  Изменить цвет фона главной страницы, чтобы уве...      3       1   \n",
       "\n",
       "   confidence  efforts    ice  \n",
       "8           9        5  16.20  \n",
       "0           8        6  13.33  \n",
       "7           8        5  11.20  \n",
       "6           8        3   8.00  \n",
       "2           7        3   7.00  \n",
       "1           4       10   2.00  \n",
       "5           2        3   1.33  \n",
       "3           3        8   1.12  \n",
       "4           1        1   1.00  "
      ]
     },
     "execution_count": 4,
     "metadata": {},
     "output_type": "execute_result"
    }
   ],
   "source": [
    "hypothesis['ice'] = round((hypothesis['impact'] * hypothesis['confidence']) / hypothesis['efforts'], 2)\n",
    "hypothesis.sort_values('ice', ascending=False)"
   ]
  },
  {
   "cell_type": "markdown",
   "metadata": {},
   "source": [
    "Применим фреймворк RICE для приоритизации гипотез. Затем отсортируем их по убыванию приоритета."
   ]
  },
  {
   "cell_type": "code",
   "execution_count": 5,
   "metadata": {},
   "outputs": [
    {
     "data": {
      "text/html": [
       "<div>\n",
       "<style scoped>\n",
       "    .dataframe tbody tr th:only-of-type {\n",
       "        vertical-align: middle;\n",
       "    }\n",
       "\n",
       "    .dataframe tbody tr th {\n",
       "        vertical-align: top;\n",
       "    }\n",
       "\n",
       "    .dataframe thead th {\n",
       "        text-align: right;\n",
       "    }\n",
       "</style>\n",
       "<table border=\"1\" class=\"dataframe\">\n",
       "  <thead>\n",
       "    <tr style=\"text-align: right;\">\n",
       "      <th></th>\n",
       "      <th>hypothesis</th>\n",
       "      <th>reach</th>\n",
       "      <th>impact</th>\n",
       "      <th>confidence</th>\n",
       "      <th>efforts</th>\n",
       "      <th>ice</th>\n",
       "      <th>rice</th>\n",
       "    </tr>\n",
       "  </thead>\n",
       "  <tbody>\n",
       "    <tr>\n",
       "      <th>7</th>\n",
       "      <td>Добавить форму подписки на все основные страни...</td>\n",
       "      <td>10</td>\n",
       "      <td>7</td>\n",
       "      <td>8</td>\n",
       "      <td>5</td>\n",
       "      <td>11.20</td>\n",
       "      <td>112.0</td>\n",
       "    </tr>\n",
       "    <tr>\n",
       "      <th>2</th>\n",
       "      <td>Добавить блоки рекомендаций товаров на сайт ин...</td>\n",
       "      <td>8</td>\n",
       "      <td>3</td>\n",
       "      <td>7</td>\n",
       "      <td>3</td>\n",
       "      <td>7.00</td>\n",
       "      <td>56.0</td>\n",
       "    </tr>\n",
       "    <tr>\n",
       "      <th>0</th>\n",
       "      <td>Добавить два новых канала привлечения трафика,...</td>\n",
       "      <td>3</td>\n",
       "      <td>10</td>\n",
       "      <td>8</td>\n",
       "      <td>6</td>\n",
       "      <td>13.33</td>\n",
       "      <td>40.0</td>\n",
       "    </tr>\n",
       "    <tr>\n",
       "      <th>6</th>\n",
       "      <td>Показать на главной странице баннеры с актуаль...</td>\n",
       "      <td>5</td>\n",
       "      <td>3</td>\n",
       "      <td>8</td>\n",
       "      <td>3</td>\n",
       "      <td>8.00</td>\n",
       "      <td>40.0</td>\n",
       "    </tr>\n",
       "    <tr>\n",
       "      <th>8</th>\n",
       "      <td>Запустить акцию, дающую скидку на товар в день...</td>\n",
       "      <td>1</td>\n",
       "      <td>9</td>\n",
       "      <td>9</td>\n",
       "      <td>5</td>\n",
       "      <td>16.20</td>\n",
       "      <td>16.2</td>\n",
       "    </tr>\n",
       "    <tr>\n",
       "      <th>3</th>\n",
       "      <td>Изменить структура категорий, что увеличит кон...</td>\n",
       "      <td>8</td>\n",
       "      <td>3</td>\n",
       "      <td>3</td>\n",
       "      <td>8</td>\n",
       "      <td>1.12</td>\n",
       "      <td>9.0</td>\n",
       "    </tr>\n",
       "    <tr>\n",
       "      <th>1</th>\n",
       "      <td>Запустить собственную службу доставки, что сок...</td>\n",
       "      <td>2</td>\n",
       "      <td>5</td>\n",
       "      <td>4</td>\n",
       "      <td>10</td>\n",
       "      <td>2.00</td>\n",
       "      <td>4.0</td>\n",
       "    </tr>\n",
       "    <tr>\n",
       "      <th>5</th>\n",
       "      <td>Добавить страницу отзывов клиентов о магазине,...</td>\n",
       "      <td>3</td>\n",
       "      <td>2</td>\n",
       "      <td>2</td>\n",
       "      <td>3</td>\n",
       "      <td>1.33</td>\n",
       "      <td>4.0</td>\n",
       "    </tr>\n",
       "    <tr>\n",
       "      <th>4</th>\n",
       "      <td>Изменить цвет фона главной страницы, чтобы уве...</td>\n",
       "      <td>3</td>\n",
       "      <td>1</td>\n",
       "      <td>1</td>\n",
       "      <td>1</td>\n",
       "      <td>1.00</td>\n",
       "      <td>3.0</td>\n",
       "    </tr>\n",
       "  </tbody>\n",
       "</table>\n",
       "</div>"
      ],
      "text/plain": [
       "                                          hypothesis  reach  impact  \\\n",
       "7  Добавить форму подписки на все основные страни...     10       7   \n",
       "2  Добавить блоки рекомендаций товаров на сайт ин...      8       3   \n",
       "0  Добавить два новых канала привлечения трафика,...      3      10   \n",
       "6  Показать на главной странице баннеры с актуаль...      5       3   \n",
       "8  Запустить акцию, дающую скидку на товар в день...      1       9   \n",
       "3  Изменить структура категорий, что увеличит кон...      8       3   \n",
       "1  Запустить собственную службу доставки, что сок...      2       5   \n",
       "5  Добавить страницу отзывов клиентов о магазине,...      3       2   \n",
       "4  Изменить цвет фона главной страницы, чтобы уве...      3       1   \n",
       "\n",
       "   confidence  efforts    ice   rice  \n",
       "7           8        5  11.20  112.0  \n",
       "2           7        3   7.00   56.0  \n",
       "0           8        6  13.33   40.0  \n",
       "6           8        3   8.00   40.0  \n",
       "8           9        5  16.20   16.2  \n",
       "3           3        8   1.12    9.0  \n",
       "1           4       10   2.00    4.0  \n",
       "5           2        3   1.33    4.0  \n",
       "4           1        1   1.00    3.0  "
      ]
     },
     "execution_count": 5,
     "metadata": {},
     "output_type": "execute_result"
    }
   ],
   "source": [
    "hypothesis['rice'] = (hypothesis['reach'] * hypothesis['impact'] * hypothesis['confidence']) / hypothesis['efforts']\n",
    "hypothesis.sort_values('rice', ascending=False)"
   ]
  },
  {
   "cell_type": "markdown",
   "metadata": {},
   "source": [
    "На основании применения двух фреймворков мы получили разные результаты. Это объясняется тем, что в отличие от ICE RICE учитывает оценку количества пользователей, которых затронут изменения и чем их больше, тем приоритет гипотезы выше. "
   ]
  },
  {
   "cell_type": "markdown",
   "metadata": {},
   "source": [
    "Тем не менее можем отметить что гипотезы под номерами 7,0 и 6 имеют высокий приоритет по результатам применения обоих фрейворков."
   ]
  },
  {
   "cell_type": "markdown",
   "metadata": {},
   "source": [
    "<h3>Анализ A/B-теста</h3>"
   ]
  },
  {
   "cell_type": "markdown",
   "metadata": {},
   "source": [
    "Откроем датафреймы с заказами и с пользователями"
   ]
  },
  {
   "cell_type": "code",
   "execution_count": 6,
   "metadata": {},
   "outputs": [
    {
     "data": {
      "text/html": [
       "<div>\n",
       "<style scoped>\n",
       "    .dataframe tbody tr th:only-of-type {\n",
       "        vertical-align: middle;\n",
       "    }\n",
       "\n",
       "    .dataframe tbody tr th {\n",
       "        vertical-align: top;\n",
       "    }\n",
       "\n",
       "    .dataframe thead th {\n",
       "        text-align: right;\n",
       "    }\n",
       "</style>\n",
       "<table border=\"1\" class=\"dataframe\">\n",
       "  <thead>\n",
       "    <tr style=\"text-align: right;\">\n",
       "      <th></th>\n",
       "      <th>transactionId</th>\n",
       "      <th>visitorId</th>\n",
       "      <th>date</th>\n",
       "      <th>revenue</th>\n",
       "      <th>group</th>\n",
       "    </tr>\n",
       "  </thead>\n",
       "  <tbody>\n",
       "    <tr>\n",
       "      <th>0</th>\n",
       "      <td>3667963787</td>\n",
       "      <td>3312258926</td>\n",
       "      <td>2019-08-15</td>\n",
       "      <td>1650</td>\n",
       "      <td>B</td>\n",
       "    </tr>\n",
       "    <tr>\n",
       "      <th>1</th>\n",
       "      <td>2804400009</td>\n",
       "      <td>3642806036</td>\n",
       "      <td>2019-08-15</td>\n",
       "      <td>730</td>\n",
       "      <td>B</td>\n",
       "    </tr>\n",
       "    <tr>\n",
       "      <th>2</th>\n",
       "      <td>2961555356</td>\n",
       "      <td>4069496402</td>\n",
       "      <td>2019-08-15</td>\n",
       "      <td>400</td>\n",
       "      <td>A</td>\n",
       "    </tr>\n",
       "    <tr>\n",
       "      <th>3</th>\n",
       "      <td>3797467345</td>\n",
       "      <td>1196621759</td>\n",
       "      <td>2019-08-15</td>\n",
       "      <td>9759</td>\n",
       "      <td>B</td>\n",
       "    </tr>\n",
       "    <tr>\n",
       "      <th>4</th>\n",
       "      <td>2282983706</td>\n",
       "      <td>2322279887</td>\n",
       "      <td>2019-08-15</td>\n",
       "      <td>2308</td>\n",
       "      <td>B</td>\n",
       "    </tr>\n",
       "    <tr>\n",
       "      <th>...</th>\n",
       "      <td>...</td>\n",
       "      <td>...</td>\n",
       "      <td>...</td>\n",
       "      <td>...</td>\n",
       "      <td>...</td>\n",
       "    </tr>\n",
       "    <tr>\n",
       "      <th>1192</th>\n",
       "      <td>2662137336</td>\n",
       "      <td>3733762160</td>\n",
       "      <td>2019-08-14</td>\n",
       "      <td>6490</td>\n",
       "      <td>B</td>\n",
       "    </tr>\n",
       "    <tr>\n",
       "      <th>1193</th>\n",
       "      <td>2203539145</td>\n",
       "      <td>370388673</td>\n",
       "      <td>2019-08-14</td>\n",
       "      <td>3190</td>\n",
       "      <td>A</td>\n",
       "    </tr>\n",
       "    <tr>\n",
       "      <th>1194</th>\n",
       "      <td>1807773912</td>\n",
       "      <td>573423106</td>\n",
       "      <td>2019-08-14</td>\n",
       "      <td>10550</td>\n",
       "      <td>A</td>\n",
       "    </tr>\n",
       "    <tr>\n",
       "      <th>1195</th>\n",
       "      <td>1947021204</td>\n",
       "      <td>1614305549</td>\n",
       "      <td>2019-08-14</td>\n",
       "      <td>100</td>\n",
       "      <td>A</td>\n",
       "    </tr>\n",
       "    <tr>\n",
       "      <th>1196</th>\n",
       "      <td>3936777065</td>\n",
       "      <td>2108080724</td>\n",
       "      <td>2019-08-15</td>\n",
       "      <td>202740</td>\n",
       "      <td>B</td>\n",
       "    </tr>\n",
       "  </tbody>\n",
       "</table>\n",
       "<p>1197 rows × 5 columns</p>\n",
       "</div>"
      ],
      "text/plain": [
       "      transactionId   visitorId        date  revenue group\n",
       "0        3667963787  3312258926  2019-08-15     1650     B\n",
       "1        2804400009  3642806036  2019-08-15      730     B\n",
       "2        2961555356  4069496402  2019-08-15      400     A\n",
       "3        3797467345  1196621759  2019-08-15     9759     B\n",
       "4        2282983706  2322279887  2019-08-15     2308     B\n",
       "...             ...         ...         ...      ...   ...\n",
       "1192     2662137336  3733762160  2019-08-14     6490     B\n",
       "1193     2203539145   370388673  2019-08-14     3190     A\n",
       "1194     1807773912   573423106  2019-08-14    10550     A\n",
       "1195     1947021204  1614305549  2019-08-14      100     A\n",
       "1196     3936777065  2108080724  2019-08-15   202740     B\n",
       "\n",
       "[1197 rows x 5 columns]"
      ]
     },
     "execution_count": 6,
     "metadata": {},
     "output_type": "execute_result"
    }
   ],
   "source": [
    "orders = pd.read_csv('orders.csv')\n",
    "orders"
   ]
  },
  {
   "cell_type": "code",
   "execution_count": 7,
   "metadata": {},
   "outputs": [
    {
     "data": {
      "text/html": [
       "<div>\n",
       "<style scoped>\n",
       "    .dataframe tbody tr th:only-of-type {\n",
       "        vertical-align: middle;\n",
       "    }\n",
       "\n",
       "    .dataframe tbody tr th {\n",
       "        vertical-align: top;\n",
       "    }\n",
       "\n",
       "    .dataframe thead th {\n",
       "        text-align: right;\n",
       "    }\n",
       "</style>\n",
       "<table border=\"1\" class=\"dataframe\">\n",
       "  <thead>\n",
       "    <tr style=\"text-align: right;\">\n",
       "      <th></th>\n",
       "      <th>date</th>\n",
       "      <th>group</th>\n",
       "      <th>visitors</th>\n",
       "    </tr>\n",
       "  </thead>\n",
       "  <tbody>\n",
       "    <tr>\n",
       "      <th>0</th>\n",
       "      <td>2019-08-01</td>\n",
       "      <td>A</td>\n",
       "      <td>719</td>\n",
       "    </tr>\n",
       "    <tr>\n",
       "      <th>1</th>\n",
       "      <td>2019-08-02</td>\n",
       "      <td>A</td>\n",
       "      <td>619</td>\n",
       "    </tr>\n",
       "    <tr>\n",
       "      <th>2</th>\n",
       "      <td>2019-08-03</td>\n",
       "      <td>A</td>\n",
       "      <td>507</td>\n",
       "    </tr>\n",
       "    <tr>\n",
       "      <th>3</th>\n",
       "      <td>2019-08-04</td>\n",
       "      <td>A</td>\n",
       "      <td>717</td>\n",
       "    </tr>\n",
       "    <tr>\n",
       "      <th>4</th>\n",
       "      <td>2019-08-05</td>\n",
       "      <td>A</td>\n",
       "      <td>756</td>\n",
       "    </tr>\n",
       "    <tr>\n",
       "      <th>...</th>\n",
       "      <td>...</td>\n",
       "      <td>...</td>\n",
       "      <td>...</td>\n",
       "    </tr>\n",
       "    <tr>\n",
       "      <th>57</th>\n",
       "      <td>2019-08-27</td>\n",
       "      <td>B</td>\n",
       "      <td>720</td>\n",
       "    </tr>\n",
       "    <tr>\n",
       "      <th>58</th>\n",
       "      <td>2019-08-28</td>\n",
       "      <td>B</td>\n",
       "      <td>654</td>\n",
       "    </tr>\n",
       "    <tr>\n",
       "      <th>59</th>\n",
       "      <td>2019-08-29</td>\n",
       "      <td>B</td>\n",
       "      <td>531</td>\n",
       "    </tr>\n",
       "    <tr>\n",
       "      <th>60</th>\n",
       "      <td>2019-08-30</td>\n",
       "      <td>B</td>\n",
       "      <td>490</td>\n",
       "    </tr>\n",
       "    <tr>\n",
       "      <th>61</th>\n",
       "      <td>2019-08-31</td>\n",
       "      <td>B</td>\n",
       "      <td>718</td>\n",
       "    </tr>\n",
       "  </tbody>\n",
       "</table>\n",
       "<p>62 rows × 3 columns</p>\n",
       "</div>"
      ],
      "text/plain": [
       "          date group  visitors\n",
       "0   2019-08-01     A       719\n",
       "1   2019-08-02     A       619\n",
       "2   2019-08-03     A       507\n",
       "3   2019-08-04     A       717\n",
       "4   2019-08-05     A       756\n",
       "..         ...   ...       ...\n",
       "57  2019-08-27     B       720\n",
       "58  2019-08-28     B       654\n",
       "59  2019-08-29     B       531\n",
       "60  2019-08-30     B       490\n",
       "61  2019-08-31     B       718\n",
       "\n",
       "[62 rows x 3 columns]"
      ]
     },
     "execution_count": 7,
     "metadata": {},
     "output_type": "execute_result"
    }
   ],
   "source": [
    "visitors = pd.read_csv('visitors.csv')\n",
    "visitors"
   ]
  },
  {
   "cell_type": "markdown",
   "metadata": {},
   "source": [
    "В обоих датафреймах приведём данные в столбцах с датой к типу datetime "
   ]
  },
  {
   "cell_type": "code",
   "execution_count": 8,
   "metadata": {},
   "outputs": [],
   "source": [
    "orders['date'] = orders['date'].map(lambda x: dt.datetime.strptime(x, '%Y-%m-%d'))\n",
    "visitors['date'] = visitors['date'].map(lambda x: dt.datetime.strptime(x, '%Y-%m-%d'))"
   ]
  },
  {
   "cell_type": "markdown",
   "metadata": {},
   "source": [
    "Также оба датафрейма проверим на наличие дубликатов и пропусков"
   ]
  },
  {
   "cell_type": "code",
   "execution_count": 9,
   "metadata": {},
   "outputs": [
    {
     "data": {
      "text/plain": [
       "transactionId    0\n",
       "visitorId        0\n",
       "date             0\n",
       "revenue          0\n",
       "group            0\n",
       "dtype: int64"
      ]
     },
     "execution_count": 9,
     "metadata": {},
     "output_type": "execute_result"
    }
   ],
   "source": [
    "orders.isna().sum()"
   ]
  },
  {
   "cell_type": "code",
   "execution_count": 10,
   "metadata": {},
   "outputs": [
    {
     "data": {
      "text/plain": [
       "date        0\n",
       "group       0\n",
       "visitors    0\n",
       "dtype: int64"
      ]
     },
     "execution_count": 10,
     "metadata": {},
     "output_type": "execute_result"
    }
   ],
   "source": [
    "visitors.isna().sum()"
   ]
  },
  {
   "cell_type": "code",
   "execution_count": 11,
   "metadata": {},
   "outputs": [
    {
     "data": {
      "text/plain": [
       "0"
      ]
     },
     "execution_count": 11,
     "metadata": {},
     "output_type": "execute_result"
    }
   ],
   "source": [
    "orders.duplicated().sum()"
   ]
  },
  {
   "cell_type": "code",
   "execution_count": 12,
   "metadata": {},
   "outputs": [
    {
     "data": {
      "text/plain": [
       "0"
      ]
     },
     "execution_count": 12,
     "metadata": {},
     "output_type": "execute_result"
    }
   ],
   "source": [
    "visitors.duplicated().sum()"
   ]
  },
  {
   "cell_type": "markdown",
   "metadata": {},
   "source": [
    "Приведём название столбцов к змеиному регистру"
   ]
  },
  {
   "cell_type": "code",
   "execution_count": 13,
   "metadata": {},
   "outputs": [],
   "source": [
    "def snake_register(s):\n",
    "    return ''.join(['_'+c.lower() if c.isupper() else c for c in s]).lstrip('_')"
   ]
  },
  {
   "cell_type": "code",
   "execution_count": 14,
   "metadata": {},
   "outputs": [],
   "source": [
    "for df in [orders, visitors]:\n",
    "    df.columns = df.columns.map(lambda x: snake_register(x))"
   ]
  },
  {
   "cell_type": "markdown",
   "metadata": {},
   "source": [
    "Данные для анализа оптимизированы. Тип данных в столбцах с датами изменён на корректный. Дубликатов и пропусков не обнаружено."
   ]
  },
  {
   "cell_type": "markdown",
   "metadata": {},
   "source": [
    "<h3>Анализ A/B-теста</h3>"
   ]
  },
  {
   "cell_type": "markdown",
   "metadata": {},
   "source": [
    "Проверим корректность разделения пользователей по группам."
   ]
  },
  {
   "cell_type": "code",
   "execution_count": 15,
   "metadata": {},
   "outputs": [],
   "source": [
    "group_a=orders.query('group == \"A\"') \n",
    "group_b=orders.query('group == \"B\"') "
   ]
  },
  {
   "cell_type": "markdown",
   "metadata": {},
   "source": [
    "Получим id пользователей, попавших в обе группы"
   ]
  },
  {
   "cell_type": "code",
   "execution_count": 16,
   "metadata": {},
   "outputs": [
    {
     "data": {
      "text/plain": [
       "58"
      ]
     },
     "execution_count": 16,
     "metadata": {},
     "output_type": "execute_result"
    }
   ],
   "source": [
    "group_intersections=list(np.intersect1d(group_a['visitor_id'], group_b['visitor_id']))\n",
    "len(group_intersections)"
   ]
  },
  {
   "cell_type": "markdown",
   "metadata": {},
   "source": [
    "Мы видим что 58 пользователей попали в обе группы. Данный факт может исказить выводы дальнейшего исследования. Нам придётся удалить записи о покупках этих пользователей."
   ]
  },
  {
   "cell_type": "code",
   "execution_count": 17,
   "metadata": {},
   "outputs": [],
   "source": [
    "orders = orders.query('visitor_id not in @group_intersections')"
   ]
  },
  {
   "cell_type": "code",
   "execution_count": 18,
   "metadata": {},
   "outputs": [],
   "source": [
    "# создаем массив уникальных пар значений дат и групп теста\n",
    "datesGroups = orders[['date', 'group']].drop_duplicates().reset_index(drop=True)\n",
    "\n",
    "# получаем агрегированные кумулятивные по дням данные о заказах \n",
    "ordersAggregated = (datesGroups\n",
    "                    .apply(lambda x: orders[np.logical_and(orders['date'] <= x['date'],\n",
    "                                                           orders['group'] == x['group'])]\n",
    "                           .agg({'date' : 'max', 'group' : 'max', 'transaction_id' : 'nunique',\n",
    "                                 'visitor_id' : 'nunique', 'revenue' : 'sum'}), axis=1)\n",
    "                    .sort_values(by=['date','group'])\n",
    "                    .reset_index(drop=True))\n",
    "\n",
    "# получаем агрегированные кумулятивные по дням данные о посетителях интернет-магазина \n",
    "visitorsAggregated = (datesGroups\n",
    "                      .apply(lambda x: visitors[np.logical_and(visitors['date'] <= x['date'],\n",
    "                                                               visitors['group'] == x['group'])]\n",
    "                             .agg({'date' : 'max', 'group' : 'max', 'visitors' : 'sum'}), axis=1)\n",
    "                      .sort_values(by=['date','group'])\n",
    "                      .reset_index(drop=True))\n",
    "\n",
    "# объединяем кумулятивные данные в одной таблице и присваиваем ее столбцам понятные названия\n",
    "cumulativeData = ordersAggregated.merge(visitorsAggregated, on=['date', 'group'])\n",
    "cumulativeData.columns = ['date', 'group', 'orders', 'buyers', 'revenue', 'visitors']\n",
    "cumulativeData\n",
    "cumulativeData['aov'] = cumulativeData[\"revenue\"] / cumulativeData[\"orders\"]\n",
    "cumulativeData['conversion'] = cumulativeData[\"orders\"] / cumulativeData[\"visitors\"]"
   ]
  },
  {
   "cell_type": "markdown",
   "metadata": {},
   "source": [
    "<h4>Построим график кумулятивной выручки по группам</h4>"
   ]
  },
  {
   "cell_type": "code",
   "execution_count": 19,
   "metadata": {},
   "outputs": [
    {
     "data": {
      "image/png": "[encoded data removed]",
      "text/plain": [
       "<Figure size 2000x700 with 1 Axes>"
      ]
     },
     "metadata": {},
     "output_type": "display_data"
    }
   ],
   "source": [
    "sns.set(font_scale=1, rc={'figure.figsize':(20,7)})\n",
    "cumulativeRevenueA = cumulativeData[cumulativeData['group']=='A'][['date','revenue', 'orders']]\n",
    "cumulativeRevenueB = cumulativeData[cumulativeData['group']=='B'][['date','revenue', 'orders']]\n",
    "plt.plot(cumulativeRevenueA['date'], cumulativeRevenueA['revenue'], label='A')\n",
    "plt.plot(cumulativeRevenueB['date'], cumulativeRevenueB['revenue'], label='B')\n",
    "plt.title('График кумулятивной выручки по группам')\n",
    "plt.xlabel('Дата')\n",
    "plt.ylabel('Выручка')\n",
    "plt.legend();"
   ]
  },
  {
   "cell_type": "markdown",
   "metadata": {},
   "source": [
    "Можно сделать следующие выводы:\n",
    "* наблюдается стабильно растущая выручка на протяжении всего теста в обоих группах;\n",
    "* в начале теста метрика показывает близкие значения в обоих группах;\n",
    "* у группы B наблюдается резкий всплеск после 17.08, который может быть связан с резким увеличением заказов в этот день, либо с появлением очень дорогих заказов в выборке;\n",
    "* после выброса в группе B выручки в обоих группах стабилизируются и растут практически одинаково."
   ]
  },
  {
   "cell_type": "markdown",
   "metadata": {},
   "source": [
    "<h4>Построим график кумулятивного среднего чека по группам</h4>"
   ]
  },
  {
   "cell_type": "code",
   "execution_count": 20,
   "metadata": {},
   "outputs": [
    {
     "data": {
      "image/png": "[encoded data removed]",
      "text/plain": [
       "<Figure size 2000x700 with 1 Axes>"
      ]
     },
     "metadata": {},
     "output_type": "display_data"
    }
   ],
   "source": [
    "plt.plot(cumulativeRevenueA['date'], cumulativeRevenueA['revenue']/cumulativeRevenueA['orders'], label='A')\n",
    "plt.plot(cumulativeRevenueB['date'], cumulativeRevenueB['revenue']/cumulativeRevenueB['orders'], label='B')\n",
    "plt.title('График кумулятивного среднего чека по группам')\n",
    "plt.xlabel('Дата')\n",
    "plt.ylabel('Кумулятивный cредний чек')\n",
    "plt.legend();"
   ]
  },
  {
   "cell_type": "markdown",
   "metadata": {},
   "source": [
    "Можно сделать следующие выводы:\n",
    "* в первой половине теста графики ведут себя не стабильно. Замечены как сильные возрастания, так и падения;\n",
    "* на графике среднего чека анамальное значения для группе B в период с 08.17 по 08.21 уже более явное;\n",
    "* к коцу периода коммулятивный средний чек группы B, выше, чем у А, но стоит учесть, что были анамальные значения;\n",
    "* к концу периода у группы А есть тенденция к росту, а у B к снижению."
   ]
  },
  {
   "cell_type": "markdown",
   "metadata": {},
   "source": [
    "<h4>Построим график относительного изменения кумулятивного среднего чека группы B к группе A</h4>"
   ]
  },
  {
   "cell_type": "code",
   "execution_count": 21,
   "metadata": {},
   "outputs": [
    {
     "data": {
      "image/png": "[encoded data removed]",
      "text/plain": [
       "<Figure size 2000x700 with 1 Axes>"
      ]
     },
     "metadata": {},
     "output_type": "display_data"
    }
   ],
   "source": [
    "mergedCumulativeRevenue = cumulativeRevenueA.merge(cumulativeRevenueB, left_on='date', right_on='date', how='left', suffixes=['A', 'B'])\n",
    "plt.plot(mergedCumulativeRevenue['date'], (mergedCumulativeRevenue['revenueB']/mergedCumulativeRevenue['ordersB'])/(mergedCumulativeRevenue['revenueA']/mergedCumulativeRevenue['ordersA'])-1)\n",
    "plt.axhline(y=0, color='black', linestyle='--')\n",
    "plt.title('График относительного изменения кумулятивного среднего чека группы B к группе A')\n",
    "plt.xlabel('Дата')\n",
    "plt.ylabel('Кумулятивный cредний чек');"
   ]
  },
  {
   "cell_type": "markdown",
   "metadata": {},
   "source": [
    "Можно сделать следующие выводы:\n",
    "* в начале теста лучше себя чувствовали показатели группы B, но затем они стали ухудшаться относительно А;\n",
    "* ближе к середине теста 13.08 А достигает своих лучших показателей, поэтому график опускается в худшую за время теста для B точку;\n",
    "* важно отметить, что на графике присутствуют резкие скачки в некоторых днях, например 05.08 или 08.08, но особенно выделяется, конечно скачок 18.08. Можно сделать вывод о наличии выбросов;\n",
    "* после выброса метрика снижается и стремится к стабилизации."
   ]
  },
  {
   "cell_type": "markdown",
   "metadata": {},
   "source": [
    "<h4>Построим график кумулятивного среднего количества заказов на посетителя по группам</h4>"
   ]
  },
  {
   "cell_type": "code",
   "execution_count": 22,
   "metadata": {},
   "outputs": [
    {
     "data": {
      "image/png": "[encoded data removed]",
      "text/plain": [
       "<Figure size 2000x700 with 1 Axes>"
      ]
     },
     "metadata": {},
     "output_type": "display_data"
    }
   ],
   "source": [
    "cumulativeData['conversion'] = cumulativeData['orders']/cumulativeData['visitors']\n",
    "cumulativeDataA = cumulativeData[cumulativeData['group']=='A']\n",
    "cumulativeDataB = cumulativeData[cumulativeData['group']=='B']\n",
    "plt.plot(cumulativeDataA['date'], cumulativeDataA['conversion'], label='A')\n",
    "plt.plot(cumulativeDataB['date'], cumulativeDataB['conversion'], label='B')\n",
    "plt.legend()\n",
    "plt.title('График кумулятивной конверсии по группам')\n",
    "plt.xlabel('Дата')\n",
    "plt.ylabel('Кумулятивная конверсия');"
   ]
  },
  {
   "cell_type": "markdown",
   "metadata": {},
   "source": [
    "Можно сделать следующие выводы:\n",
    "* наблюдаются заметные колебания в начале теста. Конверсия у группы А была больше группы B, но уже к концу первой недели тестирования конверсия группы В выросла, а группы А снизилась, после чего графики начали стремиться к стабилизации;\n",
    "* к 11-12 августа различие в конверсиях у обоих групп становится очевидным;\n",
    "* можно сделать вывод что конверсия у группы В стабильно лучше по накопленным показателям чем у группы A."
   ]
  },
  {
   "cell_type": "markdown",
   "metadata": {},
   "source": [
    "<h4>Построим график  относительного изменения кумулятивного среднего количества заказов на посетителя группы B к группе A</h4>"
   ]
  },
  {
   "cell_type": "code",
   "execution_count": 23,
   "metadata": {},
   "outputs": [
    {
     "data": {
      "image/png": "[encoded data removed]",
      "text/plain": [
       "<Figure size 2000x700 with 1 Axes>"
      ]
     },
     "metadata": {},
     "output_type": "display_data"
    }
   ],
   "source": [
    "mergedCumulativeConversions = cumulativeDataA[['date','conversion']].merge(cumulativeDataB[['date','conversion']], left_on='date', right_on='date', how='left', suffixes=['A', 'B'])\n",
    "plt.plot(mergedCumulativeConversions['date'], mergedCumulativeConversions['conversionB']/mergedCumulativeConversions['conversionA']-1, label=\"Относительное изменение кумулятивного среднего количества заказов на посетителя группы\")\n",
    "plt.legend()\n",
    "plt.axhline(color='black', linestyle='--')\n",
    "plt.axhline(color='grey', linestyle='--')\n",
    "plt.title('График относительного изменения кумулятивной конверсии группы B к группе A')\n",
    "plt.xlabel('Дата')\n",
    "plt.ylabel('Кумулятивная конверсия');"
   ]
  },
  {
   "cell_type": "markdown",
   "metadata": {},
   "source": [
    "Можно сделать следующие выводы:\n",
    "* на графике видим, что в начале теста, конверсия показывала не стабильные результаты, сначала резко поднимаясь, а потом опускалась;\n",
    "* на 6й день теста, получили стабильный прирост, который привысил 20% и установился в пределах от 10 до 15 % к концу периода."
   ]
  },
  {
   "cell_type": "markdown",
   "metadata": {},
   "source": [
    "<h4>Построим точечный график количества заказов по пользователям.</h4>"
   ]
  },
  {
   "cell_type": "markdown",
   "metadata": {},
   "source": [
    "Cоздадим сводную таблицу с колличеством заказов по каждому пользователю"
   ]
  },
  {
   "cell_type": "code",
   "execution_count": 24,
   "metadata": {},
   "outputs": [
    {
     "data": {
      "text/html": [
       "<div>\n",
       "<style scoped>\n",
       "    .dataframe tbody tr th:only-of-type {\n",
       "        vertical-align: middle;\n",
       "    }\n",
       "\n",
       "    .dataframe tbody tr th {\n",
       "        vertical-align: top;\n",
       "    }\n",
       "\n",
       "    .dataframe thead th {\n",
       "        text-align: right;\n",
       "    }\n",
       "</style>\n",
       "<table border=\"1\" class=\"dataframe\">\n",
       "  <thead>\n",
       "    <tr style=\"text-align: right;\">\n",
       "      <th></th>\n",
       "      <th>user_id</th>\n",
       "      <th>orders</th>\n",
       "    </tr>\n",
       "  </thead>\n",
       "  <tbody>\n",
       "    <tr>\n",
       "      <th>908</th>\n",
       "      <td>3967698036</td>\n",
       "      <td>3</td>\n",
       "    </tr>\n",
       "    <tr>\n",
       "      <th>55</th>\n",
       "      <td>249864742</td>\n",
       "      <td>3</td>\n",
       "    </tr>\n",
       "    <tr>\n",
       "      <th>478</th>\n",
       "      <td>2108163459</td>\n",
       "      <td>3</td>\n",
       "    </tr>\n",
       "    <tr>\n",
       "      <th>687</th>\n",
       "      <td>2988190573</td>\n",
       "      <td>3</td>\n",
       "    </tr>\n",
       "    <tr>\n",
       "      <th>890</th>\n",
       "      <td>3908431265</td>\n",
       "      <td>3</td>\n",
       "    </tr>\n",
       "    <tr>\n",
       "      <th>138</th>\n",
       "      <td>611059232</td>\n",
       "      <td>3</td>\n",
       "    </tr>\n",
       "    <tr>\n",
       "      <th>632</th>\n",
       "      <td>2742574263</td>\n",
       "      <td>3</td>\n",
       "    </tr>\n",
       "    <tr>\n",
       "      <th>157</th>\n",
       "      <td>678354126</td>\n",
       "      <td>2</td>\n",
       "    </tr>\n",
       "    <tr>\n",
       "      <th>323</th>\n",
       "      <td>1404560065</td>\n",
       "      <td>2</td>\n",
       "    </tr>\n",
       "    <tr>\n",
       "      <th>452</th>\n",
       "      <td>1985475298</td>\n",
       "      <td>2</td>\n",
       "    </tr>\n",
       "  </tbody>\n",
       "</table>\n",
       "</div>"
      ],
      "text/plain": [
       "        user_id  orders\n",
       "908  3967698036       3\n",
       "55    249864742       3\n",
       "478  2108163459       3\n",
       "687  2988190573       3\n",
       "890  3908431265       3\n",
       "138   611059232       3\n",
       "632  2742574263       3\n",
       "157   678354126       2\n",
       "323  1404560065       2\n",
       "452  1985475298       2"
      ]
     },
     "execution_count": 24,
     "metadata": {},
     "output_type": "execute_result"
    }
   ],
   "source": [
    "orders_count = (orders.groupby('visitor_id', as_index=False).agg({'transaction_id': 'nunique'}))\n",
    "orders_count.columns = ['user_id', 'orders']\n",
    "orders_count.sort_values(by='orders', ascending=False).head(10) "
   ]
  },
  {
   "cell_type": "markdown",
   "metadata": {},
   "source": [
    "На основе полученной таблицы построим точечную диаграмму:"
   ]
  },
  {
   "cell_type": "code",
   "execution_count": 25,
   "metadata": {},
   "outputs": [
    {
     "data": {
      "image/png": "[encoded data removed]",
      "text/plain": [
       "<Figure size 1200x800 with 1 Axes>"
      ]
     },
     "metadata": {},
     "output_type": "display_data"
    }
   ],
   "source": [
    "x_values = pd.Series(range(0, len(orders_count)))\n",
    "plt.figure(figsize=(12,8)) \n",
    "plt.scatter(x_values, orders_count['orders'])  \n",
    "plt.ylabel('Кол-во заказов') \n",
    "plt.xlabel('Кол-во пользователей') \n",
    "plt.title('Распределение по кол-ву сделанных заказов') \n",
    "plt.show()"
   ]
  },
  {
   "cell_type": "markdown",
   "metadata": {},
   "source": [
    "Присутствуют пользователи, которые совершали по 1, 2, 3 заказов. Наиболее часто встречается 1 заказ, не редки случаи и 2-х заказов."
   ]
  },
  {
   "cell_type": "markdown",
   "metadata": {},
   "source": [
    "<h4>Посчитаем 95-й и 99-й перцентили количества заказов на пользователя. Затем выберем границу для определения аномальных пользователей.</h4>"
   ]
  },
  {
   "cell_type": "code",
   "execution_count": 26,
   "metadata": {},
   "outputs": [
    {
     "name": "stdout",
     "output_type": "stream",
     "text": [
      "Перцентили:\n",
      "95: 1.0\n",
      "99: 2.0\n"
     ]
    }
   ],
   "source": [
    "percentiles = np.percentile(orders_count['orders'], [95, 99])\n",
    "print('Перцентили:\\n95: {}\\n99: {}'.format(percentiles[0],percentiles[1]))"
   ]
  },
  {
   "cell_type": "markdown",
   "metadata": {},
   "source": [
    "Можно сделать следующие выводы: \n",
    "<br>не более 5% пользователей оформляли больше чем один и не более 1% пользователей - больше двух заказов."
   ]
  },
  {
   "cell_type": "markdown",
   "metadata": {},
   "source": [
    "<h4>Построим точечный график стоимостей заказов</h4>"
   ]
  },
  {
   "cell_type": "code",
   "execution_count": 27,
   "metadata": {},
   "outputs": [
    {
     "data": {
      "image/png": "[encoded data removed]",
      "text/plain": [
       "<Figure size 2000x700 with 1 Axes>"
      ]
     },
     "metadata": {},
     "output_type": "display_data"
    }
   ],
   "source": [
    "x_values = pd.Series(range(0, len(orders['revenue'])))\n",
    "plt.scatter(x_values, orders['revenue']);\n",
    "plt.title('Точечный график стоимостей заказов')\n",
    "plt.ylabel('Стоимость заказа(млн.)');\n",
    "plt.xlabel('Номер заказа');"
   ]
  },
  {
   "cell_type": "markdown",
   "metadata": {},
   "source": [
    "Большинство заказов не превышает 20000, но есть выбросы в 200000 и 1200000. Для того, чтобы точно определить стоимость заказа, которую следует считать аномальной посчитаем выборочные перцентели."
   ]
  },
  {
   "cell_type": "markdown",
   "metadata": {},
   "source": [
    "<h4>Посчитаем 95-й и 99-й перцентили стоимости заказов. Затем выберем границу для определения аномальных заказов.</h4>"
   ]
  },
  {
   "cell_type": "code",
   "execution_count": 28,
   "metadata": {},
   "outputs": [
    {
     "name": "stdout",
     "output_type": "stream",
     "text": [
      "[26785. 53904.]\n"
     ]
    }
   ],
   "source": [
    "print(np.percentile(orders['revenue'], [95, 99]))"
   ]
  },
  {
   "cell_type": "markdown",
   "metadata": {},
   "source": [
    "Делаем вывод что не более чем у 5% пользователей чек дороже 26785, и только не более чем у 1% пользователей чек дороже 53904. Границей для определения аномальных заказов следует обозначить до 26785."
   ]
  },
  {
   "cell_type": "markdown",
   "metadata": {},
   "source": [
    "<h4>Посчитаем статистическую значимость различий в среднем количестве заказов на посетителя между группами по «сырым» данным. Затем сделаем выводы и предположения.</h4>"
   ]
  },
  {
   "cell_type": "code",
   "execution_count": 29,
   "metadata": {},
   "outputs": [
    {
     "name": "stdout",
     "output_type": "stream",
     "text": [
      "Кол-во покупателей в группе A: 445\n",
      "Кол-во покупок в группе А: 468\n",
      "Кол-во посетителей в группе A: 18736\n",
      "\n",
      "Кол-во покупателей в группе B: 528\n",
      "Кол-во покупок в группе B: 548\n",
      "Кол-во посетителей в группе B: 18916\n"
     ]
    }
   ],
   "source": [
    "ordersByUsersA = orders[orders['group']=='A'].groupby('visitor_id', as_index=False).agg({'transaction_id':'nunique'})\n",
    "ordersByUsersA.columns = ['visitor_id', 'orders']\n",
    "ordersByUsersB = orders[orders['group']=='B'].groupby('visitor_id', as_index=False).agg({'transaction_id':'nunique'})\n",
    "ordersByUsersB.columns = ['visitor_id', 'orders']\n",
    "print('Кол-во покупателей в группе A: {}'.format(len(ordersByUsersA)))\n",
    "print('Кол-во покупок в группе А: {}'.format(ordersByUsersA['orders'].sum()))\n",
    "print('Кол-во посетителей в группе A: {}\\n'.format(visitors[visitors['group']=='A']['visitors'].sum()))\n",
    "print('Кол-во покупателей в группе B: {}'.format(len(ordersByUsersB)))\n",
    "print('Кол-во покупок в группе B: {}'.format(ordersByUsersB['orders'].sum()))\n",
    "print('Кол-во посетителей в группе B: {}'.format(visitors[visitors['group']=='B']['visitors'].sum()))"
   ]
  },
  {
   "cell_type": "markdown",
   "metadata": {},
   "source": [
    "Составим списки кол-ва заказов sampleA и sampleB со всеми пользователями (в том числе и не купившими) по группам "
   ]
  },
  {
   "cell_type": "code",
   "execution_count": 30,
   "metadata": {},
   "outputs": [
    {
     "name": "stdout",
     "output_type": "stream",
     "text": [
      "\n",
      "Относительный прирост конверсии группы B по отношению к группе A: 0.160\n"
     ]
    }
   ],
   "source": [
    "list_orders_1 =[]\n",
    "for i in range(0,(visitors[visitors['group']=='A']['visitors'].sum()-len(ordersByUsersA))):\n",
    "    list_orders_1.append(0)\n",
    "orders_by_non_purchased_users_A = pd.Series(data = list_orders_1, name = 'orders')\n",
    "\n",
    "list_orders_2 =[]\n",
    "for i in range(0,(visitors[visitors['group']=='B']['visitors'].sum()-len(ordersByUsersB))):\n",
    "    list_orders_2.append(0)\n",
    "orders_by_non_purchased_users_B = pd.Series(data = list_orders_2, name = 'orders')\n",
    "\n",
    "sampleA = pd.concat([ordersByUsersA['orders'], orders_by_non_purchased_users_A], axis=0)\n",
    "sampleB = pd.concat([ordersByUsersB['orders'], orders_by_non_purchased_users_B], axis=0)\n",
    "print('\\nОтносительный прирост конверсии группы B по отношению к группе A: {:.3f}'.format(sampleB.mean()/sampleA.mean()-1))"
   ]
  },
  {
   "cell_type": "markdown",
   "metadata": {},
   "source": [
    "Данные для проведения теста Манна-Уитни готовы. Сформируем нулевую и альетрнативную гипотезы:\n",
    "<br><b>Нулевая гипотеза: Различий в конверсии между группами нет</b></br>\n",
    "<br><b>Альтернативная гипотеза: Различия в конверсиях между группами есть</b></br>\n",
    "<br>Коэффициент альфа: 0.05"
   ]
  },
  {
   "cell_type": "code",
   "execution_count": 31,
   "metadata": {},
   "outputs": [
    {
     "name": "stdout",
     "output_type": "stream",
     "text": [
      "P-value: 0.011018084110014696\n",
      "Отвергаем нулевую гипотезу\n"
     ]
    }
   ],
   "source": [
    "alpha = 0.05\n",
    "results = stats.mannwhitneyu(sampleA, sampleB)\n",
    "print('P-value: {}'.format(results.pvalue))\n",
    "if results.pvalue < alpha:\n",
    "    print('Отвергаем нулевую гипотезу')\n",
    "else:\n",
    "    print('Не получилось отвергнуть нулевую гипотезу')"
   ]
  },
  {
   "cell_type": "markdown",
   "metadata": {},
   "source": [
    "Поскольку нулевая гипотеза отвергнута делаем вывод что конверсии у групп существенно различаются. Посчитаем относительный прирост конверсии группы В к группе А в процентах."
   ]
  },
  {
   "cell_type": "code",
   "execution_count": 32,
   "metadata": {},
   "outputs": [
    {
     "name": "stdout",
     "output_type": "stream",
     "text": [
      "0.16\n"
     ]
    }
   ],
   "source": [
    "print(\"{0:.2f}\".format(sampleB.mean() / sampleA.mean() - 1))"
   ]
  },
  {
   "cell_type": "markdown",
   "metadata": {},
   "source": [
    "Делаем вывод что относительный проигрыш группы A составляет 16%"
   ]
  },
  {
   "cell_type": "markdown",
   "metadata": {},
   "source": [
    "<h4>Посчитаем статистическую значимость различий в среднем чеке заказа между группами по «сырым» данным. Затем сделаем выводы и предположения.</h4>"
   ]
  },
  {
   "cell_type": "markdown",
   "metadata": {},
   "source": [
    "Сформулируем гипотезы:\n",
    "<br><b>Нулевая гипотеза: Различий в средних чеках между группами нет</b></br>\n",
    "<br><b>Альтернативная гипотеза: Различия в средних чеках между группами есть</b></br>\n",
    "<br>Коэффициент альфа: 0.05"
   ]
  },
  {
   "cell_type": "code",
   "execution_count": 33,
   "metadata": {},
   "outputs": [
    {
     "name": "stdout",
     "output_type": "stream",
     "text": [
      "Значение p-value : 0.8294908998149533\n",
      "Не получилось отвергнуть нулевую гипотезу\n"
     ]
    }
   ],
   "source": [
    "result_2 = stats.mannwhitneyu(orders[orders['group']=='A']['revenue'], orders[orders['group']=='B']['revenue'])[1]  \n",
    "print(f'Значение p-value : {result_2}')\n",
    "if result_2 < alpha:\n",
    "    print('Отвергаем нулевую гипотезу')\n",
    "else:\n",
    "    print('Не получилось отвергнуть нулевую гипотезу')"
   ]
  },
  {
   "cell_type": "markdown",
   "metadata": {},
   "source": [
    "Поскольку нулевая гипотеза не отвергнута делаем вывод что существенных различий в средних чеках между группами нет. Посчитаем относительный прирост среднего чека В к группе А в процентах."
   ]
  },
  {
   "cell_type": "code",
   "execution_count": 34,
   "metadata": {},
   "outputs": [
    {
     "name": "stdout",
     "output_type": "stream",
     "text": [
      "0.29\n"
     ]
    }
   ],
   "source": [
    "print('{0:.2f}'.format(orders[orders['group']=='B']['revenue'].mean()/orders[orders['group']=='A']['revenue'].mean()-1))"
   ]
  },
  {
   "cell_type": "markdown",
   "metadata": {},
   "source": [
    "Средний чек группы B выше чем у А на 29%. Данный прирост вызван присутствием выбросов в стоимостях заказов."
   ]
  },
  {
   "cell_type": "markdown",
   "metadata": {},
   "source": [
    "<h4>Посчитаем статистическую значимость различий в среднем количестве заказов на посетителя между группами по «очищенным» данным.</h4>"
   ]
  },
  {
   "cell_type": "markdown",
   "metadata": {},
   "source": [
    "Ранее мы изучили распредление заказов по количеству для пользователя и сумме, границы были опредлены следующие:\n",
    "\n",
    "кол-во > 1\n",
    "<br>сумма > 26785\n",
    "\n",
    "Объединим аномальных пользователей в одной таблице:"
   ]
  },
  {
   "cell_type": "code",
   "execution_count": 35,
   "metadata": {},
   "outputs": [],
   "source": [
    "many_orders = pd.concat(\n",
    "    [\n",
    "        ordersByUsersA[ordersByUsersA['orders'] > 1]['visitor_id'],\n",
    "        ordersByUsersB[ordersByUsersB['orders'] > 1]['visitor_id'],\n",
    "    ],\n",
    "    axis=0,\n",
    ")"
   ]
  },
  {
   "cell_type": "markdown",
   "metadata": {},
   "source": [
    "Собираем пользователей со слишком дорогими заказами"
   ]
  },
  {
   "cell_type": "code",
   "execution_count": 36,
   "metadata": {},
   "outputs": [],
   "source": [
    "expensive_orders = orders[orders['revenue'] > 26785]['visitor_id']"
   ]
  },
  {
   "cell_type": "markdown",
   "metadata": {},
   "source": [
    "Полученные датафреймы объединяем в один датафрейм"
   ]
  },
  {
   "cell_type": "code",
   "execution_count": 37,
   "metadata": {},
   "outputs": [
    {
     "name": "stdout",
     "output_type": "stream",
     "text": [
      "568     113298937\n",
      "1099    148427295\n",
      "928     204675465\n",
      "33      249864742\n",
      "684     358944393\n",
      "Name: visitor_id, dtype: int64\n",
      " \n",
      "Количество анамальных пользователей:  86\n"
     ]
    }
   ],
   "source": [
    "abnormal_users = (\n",
    "    pd.concat([many_orders, expensive_orders], axis=0)\n",
    "    .drop_duplicates()\n",
    "    .sort_values()\n",
    ")\n",
    "print(abnormal_users.head(5))\n",
    "print(' ')\n",
    "print('Количество анамальных пользователей: ', abnormal_users.shape[0])"
   ]
  },
  {
   "cell_type": "markdown",
   "metadata": {},
   "source": [
    "Такое количество может повлиять на итоговые выводы, используем полученные данные для того, чтобы убрать аномалии:"
   ]
  },
  {
   "cell_type": "code",
   "execution_count": 38,
   "metadata": {},
   "outputs": [],
   "source": [
    "sample_a_filtered = pd.concat(\n",
    "    [\n",
    "        ordersByUsersA[\n",
    "            np.logical_not(ordersByUsersA['visitor_id'].isin(abnormal_users))\n",
    "        ]['orders'],\n",
    "        pd.Series(\n",
    "            0,\n",
    "            index=np.arange(\n",
    "                visitors[visitors['group']=='A']['visitors'].sum() - len(ordersByUsersA['orders'])\n",
    "            ),\n",
    "            name='orders',\n",
    "        ),\n",
    "    ],\n",
    "    axis=0,\n",
    ")\n",
    "\n",
    "#отфильтруем данные в группе В\n",
    "sample_b_filtered = pd.concat(\n",
    "    [\n",
    "        ordersByUsersB[\n",
    "            np.logical_not(ordersByUsersB['visitor_id'].isin(abnormal_users))\n",
    "        ]['orders'],\n",
    "        pd.Series(\n",
    "            0,\n",
    "            index=np.arange(\n",
    "                visitors[visitors['group']=='B']['visitors'].sum() - len(ordersByUsersB['orders'])\n",
    "            ),\n",
    "            name='orders',\n",
    "        ),\n",
    "    ],\n",
    "    axis=0,\n",
    ")  "
   ]
  },
  {
   "cell_type": "markdown",
   "metadata": {},
   "source": [
    "Анамалии удалены.\n",
    "Сформулируем гипотезы:\n",
    "<br><b>Нулевая гипотеза: Различий в среднем количестве заказов на посетителя между группами нет</b></br>\n",
    "<br><b>Альтернативная гипотеза: Различия в среднем количестве заказов на посетителя между группами есть</b></br>\n",
    "<br>Коэффициент альфа: 0.05"
   ]
  },
  {
   "cell_type": "code",
   "execution_count": 39,
   "metadata": {},
   "outputs": [
    {
     "name": "stdout",
     "output_type": "stream",
     "text": [
      "Значение p-value : 0.01593020716573973\n",
      "Отвергаем нулевую гипотезу\n"
     ]
    }
   ],
   "source": [
    "result_3 = stats.mannwhitneyu(sample_a_filtered, sample_b_filtered)[1] \n",
    "print(f'Значение p-value : {result_3}') \n",
    "if result_3 < alpha:\n",
    "    print(\"Отвергаем нулевую гипотезу\")\n",
    "else:\n",
    "    print(\"Не получилось отвергнуть нулевую гипотезу\") "
   ]
  },
  {
   "cell_type": "markdown",
   "metadata": {},
   "source": [
    "Поскольку нулевая гипотеза отвергнута делаем вывод что присутствуют различия в среднем количестве заказов на посетителя между группами. Посчитаем относительный прирост конверсии группы В к группе А в процентах."
   ]
  },
  {
   "cell_type": "code",
   "execution_count": 40,
   "metadata": {},
   "outputs": [
    {
     "name": "stdout",
     "output_type": "stream",
     "text": [
      "0.17\n"
     ]
    }
   ],
   "source": [
    "print(\"{0:.2f}\".format(sample_b_filtered.mean() / sample_a_filtered.mean() - 1))"
   ]
  },
  {
   "cell_type": "markdown",
   "metadata": {},
   "source": [
    "Результаты после фильтрации по конверсии значимо не изменились. Проигрыш группы A немного увеличился: до 17% на очищенных данных против 16% на сырых данных."
   ]
  },
  {
   "cell_type": "markdown",
   "metadata": {},
   "source": [
    "<h4>Посчитаем статистическую значимость различий в среднем чеке заказа между группами по «очищенным» данным.</h4>"
   ]
  },
  {
   "cell_type": "markdown",
   "metadata": {},
   "source": [
    "Сформируем нулевую и альтернативную гипотезы:\n",
    "<br><b>Нулевая гипотеза: Различий в средних чеках между группами нет</b></br>\n",
    "<br><b>Альтернативная гипотеза: Различия в средних чеках между группами есть</b></br>\n",
    "<br>Коэффициент альфа: 0.05"
   ]
  },
  {
   "cell_type": "code",
   "execution_count": 41,
   "metadata": {},
   "outputs": [],
   "source": [
    "result4 = stats.mannwhitneyu(\n",
    "    orders[np.logical_and(\n",
    "        orders['group']=='A',\n",
    "        np.logical_not(orders['visitor_id'].isin(abnormal_users)))]['revenue'],\n",
    "    orders[np.logical_and(\n",
    "        orders['group']=='B',\n",
    "        np.logical_not(orders['visitor_id'].isin(abnormal_users)))]['revenue'])[1] "
   ]
  },
  {
   "cell_type": "markdown",
   "metadata": {},
   "source": [
    "Посчитаем средние значения:"
   ]
  },
  {
   "cell_type": "code",
   "execution_count": 42,
   "metadata": {},
   "outputs": [],
   "source": [
    "mean_revenue_b = orders[np.logical_and(orders['group']=='B',\n",
    "                                       np.logical_not(orders['visitor_id'].\n",
    "                                                      isin(abnormal_users)))]['revenue'].mean()\n",
    "mean_revenue_a = orders[np.logical_and(orders['group']=='A',\n",
    "                                       np.logical_not(orders['visitor_id'].\n",
    "                                                      isin(abnormal_users)))]['revenue'].mean() "
   ]
  },
  {
   "cell_type": "code",
   "execution_count": 43,
   "metadata": {},
   "outputs": [
    {
     "name": "stdout",
     "output_type": "stream",
     "text": [
      "Значение p-value : 0.7271286894009963\n",
      "Не получилось отвергнуть нулевую гипотезу\n"
     ]
    }
   ],
   "source": [
    "print(f'Значение p-value : {result4}')  \n",
    "if result4 < alpha:\n",
    "    print(\"Отвергаем нулевую гипотезу\")\n",
    "else:\n",
    "    print(\"Не получилось отвергнуть нулевую гипотезу\")"
   ]
  },
  {
   "cell_type": "markdown",
   "metadata": {},
   "source": [
    "Поскольку нулевая гипотеза не отвергнута делаем вывод что существенных различий в средних чеках между группами на основании очищенных данных нет. Посчитаем относительный прирост среднего чека В к группе А в процентах."
   ]
  },
  {
   "cell_type": "code",
   "execution_count": 44,
   "metadata": {},
   "outputs": [
    {
     "name": "stdout",
     "output_type": "stream",
     "text": [
      "-0.03\n"
     ]
    }
   ],
   "source": [
    "print('{0:.2f}'.format(orders[np.logical_and(orders['group']=='B',\n",
    "                                       np.logical_not(orders['visitor_id'].\n",
    "                                                      isin(abnormal_users)))]['revenue'].mean()\n",
    "                      / orders[np.logical_and(orders['group']=='A',\n",
    "                                       np.logical_not(orders['visitor_id'].\n",
    "                                                      isin(abnormal_users)))]['revenue'].mean() \n",
    "                      -1\n",
    "                      )\n",
    "     )"
   ]
  },
  {
   "cell_type": "markdown",
   "metadata": {},
   "source": [
    "Средний чек заказа между группами по очищенных данным на основании анализа очищенных данных стал больше у группы А чем у группы В. Разница составляет 3%. Это еще раз подтвердает то что полученная разница на сырых данных в пользу группы В говорит о наличии выбросов."
   ]
  },
  {
   "cell_type": "markdown",
   "metadata": {},
   "source": [
    "<h3> Вывод</h3>"
   ]
  },
  {
   "cell_type": "markdown",
   "metadata": {},
   "source": [
    "В результате анализа результатов A/B-тестирования можно сделать следующие выводы:\n",
    "\n",
    "* наблюдается статистически значимое различие по конверсии между группами как по сырым данным, так и после фильтрации аномалий;\n",
    "* не выявлено статистически значимого различия по среднему чеку между группами по сырым данным, а также по очищенным данным;\n",
    "* график различия конверсии между группами сообщает, что результаты группы B лучше группы A, а именно у группы В наблюдается тенденция к росту;\n",
    "* график различия среднего чека колеблется, хотя к концу периода наблюдения тоже показывает, что результаты группы B становятся лучше группы A;\n",
    "* глядя на данные очищенные от аномальных пользователей мы видим, что средний чек практически не изменился и даже стал немного меньше по отношению к группе A;\n",
    "* по фреймворку ICE наиболее приоритетными были гипотезы: запустить акцию, дающую скидку на товар в день рождения, добавить два новых канала привлечения трафика, что позволит привлекать на 30% больше пользователей, добавить форму подписки на все основные страницы, чтобы собрать базу клиентов для email-рассылок;\n",
    "* по фреймворку RICE наиболее приоритетные гипотезы расположились следующим образом: добавить форму подписки на все основные страницы, чтобы собрать базу клиентов для email-рассылок, добавить блоки рекомендаций товаров на сайт интернет магазина, чтобы повысить конверсию и средний чек заказа, добавить два новых канала привлечения трафика, что позволит привлекать на 30% больше пользователей;\n",
    "* различие в приотизации гипотез объясняется тем что фреймворк RICE учитывает параметр Reach (скольких пользователей затронет изменение, которое планируется внести), поэтому в лидеры вышли гипотезы с наибольшим охватом пользователей."
   ]
  },
  {
   "cell_type": "markdown",
   "metadata": {},
   "source": [
    "По результатам A/B теста принимаем решение остановить тест т. к. и до и после очистки данных, показатель конверсии в группе B больше показателя в группе A. До очистки прирост составлял 16%, а после очистки данных прирост уже 17%. Данная разница показателей конверсии между группами до и после очистки данных является статистически значимой, что позволяет сделать вывод о том, что A/B тест можно остановить и зафиксировать победу группы B в части улучшения конверсии в целевой группе B.\n",
    "<br>В части среднего чека нельзя утверждать, что какая-либо из групп имеет преимущество над другой. Оснований полагать, что при продолжении теста разница между группами в конверсиях либо среднем чеке значимо изменятся нет, т. к. если обратить внимание на графики, то колебания в них имеют затухающий характер."
   ]
  }
 ],
 "metadata": {
  "ExecuteTimeLog": [
   {
    "duration": 112,
    "start_time": "2024-03-27T15:50:31.574Z"
   },
   {
    "duration": 79,
    "start_time": "2024-03-27T15:54:04.260Z"
   },
   {
    "duration": 83,
    "start_time": "2024-03-27T16:09:18.727Z"
   },
   {
    "duration": 1513,
    "start_time": "2024-03-27T16:10:11.916Z"
   },
   {
    "duration": 5,
    "start_time": "2024-03-27T16:10:17.926Z"
   },
   {
    "duration": 92,
    "start_time": "2024-03-27T16:11:27.239Z"
   },
   {
    "duration": 31,
    "start_time": "2024-03-27T16:11:36.590Z"
   },
   {
    "duration": 29,
    "start_time": "2024-03-27T16:11:40.629Z"
   },
   {
    "duration": 3,
    "start_time": "2024-03-27T16:12:36.725Z"
   },
   {
    "duration": 8,
    "start_time": "2024-03-27T16:15:19.174Z"
   },
   {
    "duration": 122,
    "start_time": "2024-03-27T16:22:29.595Z"
   },
   {
    "duration": 31,
    "start_time": "2024-03-27T16:22:51.990Z"
   },
   {
    "duration": 3,
    "start_time": "2024-03-27T16:22:57.695Z"
   },
   {
    "duration": 37,
    "start_time": "2024-03-27T16:23:00.387Z"
   },
   {
    "duration": 13,
    "start_time": "2024-03-27T16:25:18.187Z"
   },
   {
    "duration": 101,
    "start_time": "2024-03-27T16:50:27.067Z"
   },
   {
    "duration": 73,
    "start_time": "2024-03-27T16:50:42.626Z"
   },
   {
    "duration": 37,
    "start_time": "2024-03-27T16:51:06.186Z"
   },
   {
    "duration": 54,
    "start_time": "2024-03-27T16:51:12.071Z"
   },
   {
    "duration": 53,
    "start_time": "2024-03-27T16:51:20.137Z"
   },
   {
    "duration": 32,
    "start_time": "2024-03-27T16:51:23.475Z"
   },
   {
    "duration": 13,
    "start_time": "2024-03-27T17:00:57.939Z"
   },
   {
    "duration": 6,
    "start_time": "2024-03-27T17:02:24.290Z"
   },
   {
    "duration": 10,
    "start_time": "2024-03-27T17:02:46.459Z"
   },
   {
    "duration": 6,
    "start_time": "2024-03-27T17:03:00.709Z"
   },
   {
    "duration": 8,
    "start_time": "2024-03-27T17:03:07.754Z"
   },
   {
    "duration": 6,
    "start_time": "2024-03-27T17:03:25.969Z"
   },
   {
    "duration": 6,
    "start_time": "2024-03-27T17:03:33.120Z"
   },
   {
    "duration": 6,
    "start_time": "2024-03-27T17:03:35.133Z"
   },
   {
    "duration": 5,
    "start_time": "2024-03-27T17:03:37.199Z"
   },
   {
    "duration": 5,
    "start_time": "2024-03-27T17:03:39.039Z"
   },
   {
    "duration": 112,
    "start_time": "2024-03-28T07:05:00.462Z"
   },
   {
    "duration": 80,
    "start_time": "2024-03-28T07:08:23.193Z"
   },
   {
    "duration": 106,
    "start_time": "2024-03-28T07:08:37.526Z"
   },
   {
    "duration": 50,
    "start_time": "2024-03-28T07:08:41.722Z"
   },
   {
    "duration": 1499,
    "start_time": "2024-03-28T07:08:51.324Z"
   },
   {
    "duration": 85,
    "start_time": "2024-03-28T07:08:53.175Z"
   },
   {
    "duration": 73,
    "start_time": "2024-03-28T07:08:56.433Z"
   },
   {
    "duration": 3,
    "start_time": "2024-03-28T07:09:07.547Z"
   },
   {
    "duration": 14,
    "start_time": "2024-03-28T07:09:10.232Z"
   },
   {
    "duration": 14,
    "start_time": "2024-03-28T07:09:12.761Z"
   },
   {
    "duration": 94,
    "start_time": "2024-03-28T07:09:18.188Z"
   },
   {
    "duration": 71,
    "start_time": "2024-03-28T07:09:21.098Z"
   },
   {
    "duration": 24,
    "start_time": "2024-03-28T07:09:25.990Z"
   },
   {
    "duration": 6,
    "start_time": "2024-03-28T07:09:28.112Z"
   },
   {
    "duration": 6,
    "start_time": "2024-03-28T07:09:30.066Z"
   },
   {
    "duration": 8,
    "start_time": "2024-03-28T07:09:31.577Z"
   },
   {
    "duration": 5,
    "start_time": "2024-03-28T07:09:33.077Z"
   },
   {
    "duration": 6,
    "start_time": "2024-03-28T07:09:35.460Z"
   },
   {
    "duration": 9,
    "start_time": "2024-03-28T07:53:45.726Z"
   },
   {
    "duration": 5,
    "start_time": "2024-03-28T07:54:16.657Z"
   },
   {
    "duration": 6,
    "start_time": "2024-03-28T07:55:46.768Z"
   },
   {
    "duration": 7,
    "start_time": "2024-03-28T07:58:46.213Z"
   },
   {
    "duration": 35,
    "start_time": "2024-03-28T07:59:33.586Z"
   },
   {
    "duration": 9,
    "start_time": "2024-03-28T08:01:31.152Z"
   },
   {
    "duration": 29,
    "start_time": "2024-03-28T08:01:39.672Z"
   },
   {
    "duration": 32,
    "start_time": "2024-03-28T08:02:32.702Z"
   },
   {
    "duration": 35,
    "start_time": "2024-03-28T08:03:06.526Z"
   },
   {
    "duration": 27,
    "start_time": "2024-03-28T08:03:21.849Z"
   },
   {
    "duration": 176,
    "start_time": "2024-03-28T08:03:25.821Z"
   },
   {
    "duration": 3,
    "start_time": "2024-03-28T08:14:01.913Z"
   },
   {
    "duration": 4,
    "start_time": "2024-03-28T08:14:23.594Z"
   },
   {
    "duration": 10,
    "start_time": "2024-03-28T08:14:34.002Z"
   },
   {
    "duration": 1367,
    "start_time": "2024-03-28T08:14:35.983Z"
   },
   {
    "duration": 3,
    "start_time": "2024-03-28T08:15:30.920Z"
   },
   {
    "duration": 7,
    "start_time": "2024-03-28T08:15:33.764Z"
   },
   {
    "duration": 5,
    "start_time": "2024-03-28T08:15:41.007Z"
   },
   {
    "duration": 6,
    "start_time": "2024-03-28T08:15:50.187Z"
   },
   {
    "duration": 28,
    "start_time": "2024-03-28T08:15:52.559Z"
   },
   {
    "duration": 175,
    "start_time": "2024-03-28T08:16:04.451Z"
   },
   {
    "duration": 306,
    "start_time": "2024-03-28T08:24:25.975Z"
   },
   {
    "duration": 301,
    "start_time": "2024-03-28T08:25:15.083Z"
   },
   {
    "duration": 4,
    "start_time": "2024-03-28T08:28:54.891Z"
   },
   {
    "duration": 10,
    "start_time": "2024-03-28T08:33:30.479Z"
   },
   {
    "duration": 454,
    "start_time": "2024-03-28T08:34:06.253Z"
   },
   {
    "duration": 378,
    "start_time": "2024-03-28T08:34:28.914Z"
   },
   {
    "duration": 335,
    "start_time": "2024-03-28T08:34:34.856Z"
   },
   {
    "duration": 330,
    "start_time": "2024-03-28T08:34:48.322Z"
   },
   {
    "duration": 81,
    "start_time": "2024-03-28T08:45:42.255Z"
   },
   {
    "duration": 348,
    "start_time": "2024-03-28T08:48:51.557Z"
   },
   {
    "duration": 86,
    "start_time": "2024-03-28T09:13:54.047Z"
   },
   {
    "duration": 481,
    "start_time": "2024-03-28T09:15:15.737Z"
   },
   {
    "duration": 93,
    "start_time": "2024-03-28T09:17:23.477Z"
   },
   {
    "duration": 81,
    "start_time": "2024-03-28T09:26:09.081Z"
   },
   {
    "duration": 344,
    "start_time": "2024-03-28T09:27:52.746Z"
   },
   {
    "duration": 490,
    "start_time": "2024-03-28T09:42:39.532Z"
   },
   {
    "duration": 484,
    "start_time": "2024-03-28T09:43:53.896Z"
   },
   {
    "duration": 471,
    "start_time": "2024-03-28T09:45:31.247Z"
   },
   {
    "duration": 485,
    "start_time": "2024-03-28T09:45:42.556Z"
   },
   {
    "duration": 491,
    "start_time": "2024-03-28T09:45:51.974Z"
   },
   {
    "duration": 87,
    "start_time": "2024-03-28T09:49:57.295Z"
   },
   {
    "duration": 17,
    "start_time": "2024-03-28T11:00:03.495Z"
   },
   {
    "duration": 12,
    "start_time": "2024-03-28T11:02:02.922Z"
   },
   {
    "duration": 11,
    "start_time": "2024-03-28T11:02:37.407Z"
   },
   {
    "duration": 223,
    "start_time": "2024-03-28T11:04:19.414Z"
   },
   {
    "duration": 80,
    "start_time": "2024-03-28T11:07:19.188Z"
   },
   {
    "duration": 15,
    "start_time": "2024-03-28T11:08:54.455Z"
   },
   {
    "duration": 11,
    "start_time": "2024-03-28T11:11:32.913Z"
   },
   {
    "duration": 5,
    "start_time": "2024-03-28T11:13:01.969Z"
   },
   {
    "duration": 288,
    "start_time": "2024-03-28T11:22:12.239Z"
   },
   {
    "duration": 226,
    "start_time": "2024-03-28T11:22:53.266Z"
   },
   {
    "duration": 261,
    "start_time": "2024-03-28T11:24:12.253Z"
   },
   {
    "duration": 230,
    "start_time": "2024-03-28T11:28:22.809Z"
   },
   {
    "duration": 4,
    "start_time": "2024-03-28T11:30:02.712Z"
   },
   {
    "duration": 26,
    "start_time": "2024-03-28T11:42:48.641Z"
   },
   {
    "duration": 61,
    "start_time": "2024-03-28T11:43:41.536Z"
   },
   {
    "duration": 61,
    "start_time": "2024-03-28T12:00:49.628Z"
   },
   {
    "duration": 38,
    "start_time": "2024-03-28T12:07:52.022Z"
   },
   {
    "duration": 29,
    "start_time": "2024-03-28T12:09:33.834Z"
   },
   {
    "duration": 24,
    "start_time": "2024-03-28T12:12:27.453Z"
   },
   {
    "duration": 28,
    "start_time": "2024-03-28T12:12:32.163Z"
   },
   {
    "duration": 28,
    "start_time": "2024-03-28T12:14:56.279Z"
   },
   {
    "duration": 9,
    "start_time": "2024-03-28T12:15:26.332Z"
   },
   {
    "duration": 98,
    "start_time": "2024-03-28T12:16:18.167Z"
   },
   {
    "duration": 16,
    "start_time": "2024-03-28T12:33:19.563Z"
   },
   {
    "duration": 6,
    "start_time": "2024-03-28T12:34:17.984Z"
   },
   {
    "duration": 4,
    "start_time": "2024-03-28T12:34:34.035Z"
   },
   {
    "duration": 5,
    "start_time": "2024-03-28T12:35:15.070Z"
   },
   {
    "duration": 15,
    "start_time": "2024-03-28T12:35:59.619Z"
   },
   {
    "duration": 15,
    "start_time": "2024-03-28T12:37:07.781Z"
   },
   {
    "duration": 14,
    "start_time": "2024-03-28T12:37:26.255Z"
   },
   {
    "duration": 14,
    "start_time": "2024-03-28T12:38:23.681Z"
   },
   {
    "duration": 14,
    "start_time": "2024-03-28T12:39:20.351Z"
   },
   {
    "duration": 3,
    "start_time": "2024-03-28T12:40:26.693Z"
   },
   {
    "duration": 35,
    "start_time": "2024-03-28T12:40:27.967Z"
   },
   {
    "duration": 4,
    "start_time": "2024-03-28T12:40:29.919Z"
   },
   {
    "duration": 13,
    "start_time": "2024-03-28T12:40:31.095Z"
   },
   {
    "duration": 15,
    "start_time": "2024-03-28T12:40:33.668Z"
   },
   {
    "duration": 56,
    "start_time": "2024-03-28T12:40:36.450Z"
   },
   {
    "duration": 32,
    "start_time": "2024-03-28T12:40:37.497Z"
   },
   {
    "duration": 15,
    "start_time": "2024-03-28T12:40:39.728Z"
   },
   {
    "duration": 7,
    "start_time": "2024-03-28T12:40:41.550Z"
   },
   {
    "duration": 7,
    "start_time": "2024-03-28T12:40:42.552Z"
   },
   {
    "duration": 6,
    "start_time": "2024-03-28T12:40:43.469Z"
   },
   {
    "duration": 6,
    "start_time": "2024-03-28T12:40:44.355Z"
   },
   {
    "duration": 4,
    "start_time": "2024-03-28T12:40:46.208Z"
   },
   {
    "duration": 3,
    "start_time": "2024-03-28T12:40:49.056Z"
   },
   {
    "duration": 8,
    "start_time": "2024-03-28T12:40:52.446Z"
   },
   {
    "duration": 6,
    "start_time": "2024-03-28T12:40:54.176Z"
   },
   {
    "duration": 6,
    "start_time": "2024-03-28T12:40:56.069Z"
   },
   {
    "duration": 308,
    "start_time": "2024-03-28T12:40:56.939Z"
   },
   {
    "duration": 359,
    "start_time": "2024-03-28T12:40:58.767Z"
   },
   {
    "duration": 464,
    "start_time": "2024-03-28T12:41:03.453Z"
   },
   {
    "duration": 414,
    "start_time": "2024-03-28T12:41:08.425Z"
   },
   {
    "duration": 387,
    "start_time": "2024-03-28T12:41:13.264Z"
   },
   {
    "duration": 447,
    "start_time": "2024-03-28T12:41:18.747Z"
   },
   {
    "duration": 13,
    "start_time": "2024-03-28T12:41:25.113Z"
   },
   {
    "duration": 230,
    "start_time": "2024-03-28T12:41:28.357Z"
   },
   {
    "duration": 5,
    "start_time": "2024-03-28T12:41:37.196Z"
   },
   {
    "duration": 235,
    "start_time": "2024-03-28T12:41:40.972Z"
   },
   {
    "duration": 4,
    "start_time": "2024-03-28T12:41:44.228Z"
   },
   {
    "duration": 18,
    "start_time": "2024-03-28T12:41:47.627Z"
   },
   {
    "duration": 23,
    "start_time": "2024-03-28T12:41:49.793Z"
   },
   {
    "duration": 26,
    "start_time": "2024-03-28T12:41:51.881Z"
   },
   {
    "duration": 9,
    "start_time": "2024-03-28T12:41:54.552Z"
   },
   {
    "duration": 14,
    "start_time": "2024-03-28T12:41:57.124Z"
   },
   {
    "duration": 13,
    "start_time": "2024-03-28T12:42:53.440Z"
   },
   {
    "duration": 1268,
    "start_time": "2024-03-28T12:45:33.873Z"
   },
   {
    "duration": 1372,
    "start_time": "2024-03-28T12:46:50.726Z"
   },
   {
    "duration": 1382,
    "start_time": "2024-03-28T12:46:58.397Z"
   },
   {
    "duration": 1331,
    "start_time": "2024-03-28T12:48:11.769Z"
   },
   {
    "duration": 6,
    "start_time": "2024-03-28T12:48:19.295Z"
   },
   {
    "duration": 5,
    "start_time": "2024-03-28T12:48:40.553Z"
   },
   {
    "duration": 13,
    "start_time": "2024-03-28T12:59:55.156Z"
   },
   {
    "duration": 4,
    "start_time": "2024-03-28T13:00:08.258Z"
   },
   {
    "duration": 8,
    "start_time": "2024-03-28T13:01:29.175Z"
   },
   {
    "duration": 7,
    "start_time": "2024-03-28T13:01:51.508Z"
   },
   {
    "duration": 13,
    "start_time": "2024-03-28T13:08:08.586Z"
   },
   {
    "duration": 1330,
    "start_time": "2024-03-28T13:10:01.061Z"
   },
   {
    "duration": 18,
    "start_time": "2024-03-28T13:10:16.955Z"
   },
   {
    "duration": 10,
    "start_time": "2024-03-28T13:10:30.757Z"
   },
   {
    "duration": 85,
    "start_time": "2024-03-28T13:17:36.679Z"
   },
   {
    "duration": 27,
    "start_time": "2024-03-28T13:18:01.283Z"
   },
   {
    "duration": 15,
    "start_time": "2024-03-28T13:24:30.405Z"
   },
   {
    "duration": 8,
    "start_time": "2024-03-28T13:25:14.126Z"
   },
   {
    "duration": 4,
    "start_time": "2024-03-28T13:25:40.719Z"
   },
   {
    "duration": 82,
    "start_time": "2024-03-28T13:27:19.653Z"
   },
   {
    "duration": 11,
    "start_time": "2024-03-28T13:28:32.455Z"
   },
   {
    "duration": 10,
    "start_time": "2024-03-28T13:28:34.307Z"
   },
   {
    "duration": 4,
    "start_time": "2024-03-28T13:28:45.027Z"
   },
   {
    "duration": 4,
    "start_time": "2024-03-28T13:28:49.939Z"
   },
   {
    "duration": 12,
    "start_time": "2024-03-28T14:29:34.933Z"
   },
   {
    "duration": 3,
    "start_time": "2024-03-28T14:36:21.655Z"
   },
   {
    "duration": 32,
    "start_time": "2024-03-28T14:36:24.592Z"
   },
   {
    "duration": 5,
    "start_time": "2024-03-28T14:36:28.985Z"
   },
   {
    "duration": 14,
    "start_time": "2024-03-28T14:36:31.870Z"
   },
   {
    "duration": 15,
    "start_time": "2024-03-28T14:36:34.984Z"
   },
   {
    "duration": 59,
    "start_time": "2024-03-28T14:36:42.766Z"
   },
   {
    "duration": 32,
    "start_time": "2024-03-28T14:36:44.177Z"
   },
   {
    "duration": 15,
    "start_time": "2024-03-28T14:36:47.062Z"
   },
   {
    "duration": 6,
    "start_time": "2024-03-28T14:36:49.920Z"
   },
   {
    "duration": 6,
    "start_time": "2024-03-28T14:36:52.597Z"
   },
   {
    "duration": 7,
    "start_time": "2024-03-28T14:36:53.774Z"
   },
   {
    "duration": 7,
    "start_time": "2024-03-28T14:36:54.873Z"
   },
   {
    "duration": 4,
    "start_time": "2024-03-28T14:36:57.582Z"
   },
   {
    "duration": 3,
    "start_time": "2024-03-28T14:36:59.177Z"
   },
   {
    "duration": 8,
    "start_time": "2024-03-28T14:37:08.347Z"
   },
   {
    "duration": 6,
    "start_time": "2024-03-28T14:37:11.034Z"
   },
   {
    "duration": 6,
    "start_time": "2024-03-28T14:37:14.672Z"
   },
   {
    "duration": 315,
    "start_time": "2024-03-28T14:37:15.914Z"
   },
   {
    "duration": 363,
    "start_time": "2024-03-28T14:37:18.701Z"
   },
   {
    "duration": 347,
    "start_time": "2024-03-28T14:37:22.939Z"
   },
   {
    "duration": 453,
    "start_time": "2024-03-28T14:37:29.935Z"
   },
   {
    "duration": 349,
    "start_time": "2024-03-28T14:37:36.932Z"
   },
   {
    "duration": 482,
    "start_time": "2024-03-28T14:37:43.198Z"
   },
   {
    "duration": 13,
    "start_time": "2024-03-28T14:37:51.440Z"
   },
   {
    "duration": 326,
    "start_time": "2024-03-28T14:37:54.435Z"
   },
   {
    "duration": 4,
    "start_time": "2024-03-28T14:37:59.205Z"
   },
   {
    "duration": 224,
    "start_time": "2024-03-28T14:38:03.007Z"
   },
   {
    "duration": 4,
    "start_time": "2024-03-28T14:38:08.038Z"
   },
   {
    "duration": 18,
    "start_time": "2024-03-28T14:38:12.815Z"
   },
   {
    "duration": 38,
    "start_time": "2024-03-28T14:38:15.597Z"
   },
   {
    "duration": 26,
    "start_time": "2024-03-28T14:38:18.419Z"
   },
   {
    "duration": 9,
    "start_time": "2024-03-28T14:38:22.475Z"
   },
   {
    "duration": 7,
    "start_time": "2024-03-28T14:38:26.523Z"
   },
   {
    "duration": 4,
    "start_time": "2024-03-28T14:38:29.188Z"
   },
   {
    "duration": 7,
    "start_time": "2024-03-28T14:38:31.722Z"
   },
   {
    "duration": 10,
    "start_time": "2024-03-28T14:38:34.628Z"
   },
   {
    "duration": 28,
    "start_time": "2024-03-28T14:38:37.027Z"
   },
   {
    "duration": 9,
    "start_time": "2024-03-28T14:38:42.265Z"
   },
   {
    "duration": 8,
    "start_time": "2024-03-28T14:38:45.049Z"
   },
   {
    "duration": 5,
    "start_time": "2024-03-28T14:38:46.525Z"
   },
   {
    "duration": 1373,
    "start_time": "2024-03-28T15:48:52.180Z"
   },
   {
    "duration": 82,
    "start_time": "2024-03-28T15:48:53.555Z"
   },
   {
    "duration": 3,
    "start_time": "2024-03-28T15:48:53.639Z"
   },
   {
    "duration": 22,
    "start_time": "2024-03-28T15:48:53.644Z"
   },
   {
    "duration": 12,
    "start_time": "2024-03-28T15:48:53.668Z"
   },
   {
    "duration": 102,
    "start_time": "2024-03-28T15:48:53.682Z"
   },
   {
    "duration": 76,
    "start_time": "2024-03-28T15:48:53.786Z"
   },
   {
    "duration": 13,
    "start_time": "2024-03-28T15:48:53.863Z"
   },
   {
    "duration": 6,
    "start_time": "2024-03-28T15:48:53.878Z"
   },
   {
    "duration": 6,
    "start_time": "2024-03-28T15:48:53.885Z"
   },
   {
    "duration": 6,
    "start_time": "2024-03-28T15:48:53.893Z"
   },
   {
    "duration": 5,
    "start_time": "2024-03-28T15:48:53.900Z"
   },
   {
    "duration": 3,
    "start_time": "2024-03-28T15:48:53.906Z"
   },
   {
    "duration": 14,
    "start_time": "2024-03-28T15:48:53.912Z"
   },
   {
    "duration": 13,
    "start_time": "2024-03-28T15:48:53.927Z"
   },
   {
    "duration": 13,
    "start_time": "2024-03-28T15:48:53.942Z"
   },
   {
    "duration": 5,
    "start_time": "2024-03-28T15:48:53.956Z"
   },
   {
    "duration": 299,
    "start_time": "2024-03-28T15:48:53.962Z"
   },
   {
    "duration": 442,
    "start_time": "2024-03-28T15:48:54.263Z"
   },
   {
    "duration": 367,
    "start_time": "2024-03-28T15:48:54.706Z"
   },
   {
    "duration": 474,
    "start_time": "2024-03-28T15:48:55.075Z"
   },
   {
    "duration": 432,
    "start_time": "2024-03-28T15:48:55.551Z"
   },
   {
    "duration": 472,
    "start_time": "2024-03-28T15:48:55.985Z"
   },
   {
    "duration": 11,
    "start_time": "2024-03-28T15:48:56.459Z"
   },
   {
    "duration": 228,
    "start_time": "2024-03-28T15:48:56.472Z"
   },
   {
    "duration": 4,
    "start_time": "2024-03-28T15:48:56.702Z"
   },
   {
    "duration": 230,
    "start_time": "2024-03-28T15:48:56.707Z"
   },
   {
    "duration": 5,
    "start_time": "2024-03-28T15:48:56.939Z"
   },
   {
    "duration": 15,
    "start_time": "2024-03-28T15:48:56.946Z"
   },
   {
    "duration": 19,
    "start_time": "2024-03-28T15:48:56.963Z"
   },
   {
    "duration": 61,
    "start_time": "2024-03-28T15:48:56.983Z"
   },
   {
    "duration": 9,
    "start_time": "2024-03-28T15:48:57.046Z"
   },
   {
    "duration": 7,
    "start_time": "2024-03-28T15:48:57.057Z"
   },
   {
    "duration": 5,
    "start_time": "2024-03-28T15:48:57.065Z"
   },
   {
    "duration": 6,
    "start_time": "2024-03-28T15:48:57.071Z"
   },
   {
    "duration": 9,
    "start_time": "2024-03-28T15:48:57.078Z"
   },
   {
    "duration": 59,
    "start_time": "2024-03-28T15:48:57.089Z"
   },
   {
    "duration": 9,
    "start_time": "2024-03-28T15:48:57.150Z"
   },
   {
    "duration": 7,
    "start_time": "2024-03-28T15:48:57.161Z"
   },
   {
    "duration": 4,
    "start_time": "2024-03-28T15:48:57.170Z"
   },
   {
    "duration": 1252,
    "start_time": "2024-03-28T16:18:54.187Z"
   },
   {
    "duration": 34,
    "start_time": "2024-03-28T16:18:55.441Z"
   },
   {
    "duration": 3,
    "start_time": "2024-03-28T16:18:55.477Z"
   },
   {
    "duration": 13,
    "start_time": "2024-03-28T16:18:55.481Z"
   },
   {
    "duration": 12,
    "start_time": "2024-03-28T16:18:55.496Z"
   },
   {
    "duration": 47,
    "start_time": "2024-03-28T16:18:55.509Z"
   },
   {
    "duration": 21,
    "start_time": "2024-03-28T16:18:55.558Z"
   },
   {
    "duration": 13,
    "start_time": "2024-03-28T16:18:55.580Z"
   },
   {
    "duration": 5,
    "start_time": "2024-03-28T16:18:55.595Z"
   },
   {
    "duration": 5,
    "start_time": "2024-03-28T16:18:55.602Z"
   },
   {
    "duration": 13,
    "start_time": "2024-03-28T16:18:55.608Z"
   },
   {
    "duration": 10,
    "start_time": "2024-03-28T16:18:55.627Z"
   },
   {
    "duration": 3,
    "start_time": "2024-03-28T16:18:55.638Z"
   },
   {
    "duration": 5,
    "start_time": "2024-03-28T16:18:55.644Z"
   },
   {
    "duration": 9,
    "start_time": "2024-03-28T16:18:55.650Z"
   },
   {
    "duration": 5,
    "start_time": "2024-03-28T16:18:55.660Z"
   },
   {
    "duration": 5,
    "start_time": "2024-03-28T16:18:55.667Z"
   },
   {
    "duration": 324,
    "start_time": "2024-03-28T16:18:55.673Z"
   },
   {
    "duration": 458,
    "start_time": "2024-03-28T16:18:55.998Z"
   },
   {
    "duration": 370,
    "start_time": "2024-03-28T16:18:56.458Z"
   },
   {
    "duration": 447,
    "start_time": "2024-03-28T16:18:56.830Z"
   },
   {
    "duration": 380,
    "start_time": "2024-03-28T16:18:57.279Z"
   },
   {
    "duration": 508,
    "start_time": "2024-03-28T16:18:57.660Z"
   },
   {
    "duration": 12,
    "start_time": "2024-03-28T16:18:58.170Z"
   },
   {
    "duration": 229,
    "start_time": "2024-03-28T16:18:58.183Z"
   },
   {
    "duration": 18,
    "start_time": "2024-03-28T16:18:58.414Z"
   },
   {
    "duration": 239,
    "start_time": "2024-03-28T16:18:58.434Z"
   },
   {
    "duration": 5,
    "start_time": "2024-03-28T16:18:58.675Z"
   },
   {
    "duration": 38,
    "start_time": "2024-03-28T16:18:58.682Z"
   },
   {
    "duration": 23,
    "start_time": "2024-03-28T16:18:58.721Z"
   },
   {
    "duration": 26,
    "start_time": "2024-03-28T16:18:58.745Z"
   },
   {
    "duration": 8,
    "start_time": "2024-03-28T16:18:58.772Z"
   },
   {
    "duration": 5,
    "start_time": "2024-03-28T16:18:58.782Z"
   },
   {
    "duration": 29,
    "start_time": "2024-03-28T16:18:58.788Z"
   },
   {
    "duration": 31,
    "start_time": "2024-03-28T16:18:58.823Z"
   },
   {
    "duration": 26,
    "start_time": "2024-03-28T16:18:58.857Z"
   },
   {
    "duration": 29,
    "start_time": "2024-03-28T16:18:58.885Z"
   },
   {
    "duration": 14,
    "start_time": "2024-03-28T16:18:58.916Z"
   },
   {
    "duration": 8,
    "start_time": "2024-03-28T16:18:58.932Z"
   },
   {
    "duration": 4,
    "start_time": "2024-03-28T16:18:58.941Z"
   },
   {
    "duration": 1230,
    "start_time": "2024-03-28T16:20:31.201Z"
   },
   {
    "duration": 36,
    "start_time": "2024-03-28T16:20:32.433Z"
   },
   {
    "duration": 3,
    "start_time": "2024-03-28T16:20:32.471Z"
   },
   {
    "duration": 24,
    "start_time": "2024-03-28T16:20:32.476Z"
   },
   {
    "duration": 30,
    "start_time": "2024-03-28T16:20:32.503Z"
   },
   {
    "duration": 68,
    "start_time": "2024-03-28T16:20:32.535Z"
   },
   {
    "duration": 31,
    "start_time": "2024-03-28T16:20:32.605Z"
   },
   {
    "duration": 14,
    "start_time": "2024-03-28T16:20:32.638Z"
   },
   {
    "duration": 8,
    "start_time": "2024-03-28T16:20:32.654Z"
   },
   {
    "duration": 17,
    "start_time": "2024-03-28T16:20:32.664Z"
   },
   {
    "duration": 7,
    "start_time": "2024-03-28T16:20:32.683Z"
   },
   {
    "duration": 7,
    "start_time": "2024-03-28T16:20:32.691Z"
   },
   {
    "duration": 11,
    "start_time": "2024-03-28T16:20:32.699Z"
   },
   {
    "duration": 12,
    "start_time": "2024-03-28T16:20:32.712Z"
   },
   {
    "duration": 10,
    "start_time": "2024-03-28T16:20:32.725Z"
   },
   {
    "duration": 5,
    "start_time": "2024-03-28T16:20:32.737Z"
   },
   {
    "duration": 5,
    "start_time": "2024-03-28T16:20:32.743Z"
   },
   {
    "duration": 316,
    "start_time": "2024-03-28T16:20:32.749Z"
   },
   {
    "duration": 458,
    "start_time": "2024-03-28T16:20:33.067Z"
   },
   {
    "duration": 334,
    "start_time": "2024-03-28T16:20:33.527Z"
   },
   {
    "duration": 408,
    "start_time": "2024-03-28T16:20:33.863Z"
   },
   {
    "duration": 385,
    "start_time": "2024-03-28T16:20:34.273Z"
   },
   {
    "duration": 466,
    "start_time": "2024-03-28T16:20:34.660Z"
   },
   {
    "duration": 13,
    "start_time": "2024-03-28T16:20:35.131Z"
   },
   {
    "duration": 223,
    "start_time": "2024-03-28T16:20:35.146Z"
   },
   {
    "duration": 5,
    "start_time": "2024-03-28T16:20:35.370Z"
   },
   {
    "duration": 258,
    "start_time": "2024-03-28T16:20:35.376Z"
   },
   {
    "duration": 4,
    "start_time": "2024-03-28T16:20:35.636Z"
   },
   {
    "duration": 41,
    "start_time": "2024-03-28T16:20:35.641Z"
   },
   {
    "duration": 22,
    "start_time": "2024-03-28T16:20:35.684Z"
   },
   {
    "duration": 37,
    "start_time": "2024-03-28T16:20:35.709Z"
   },
   {
    "duration": 8,
    "start_time": "2024-03-28T16:20:35.748Z"
   },
   {
    "duration": 26,
    "start_time": "2024-03-28T16:20:35.758Z"
   },
   {
    "duration": 20,
    "start_time": "2024-03-28T16:20:35.786Z"
   },
   {
    "duration": 26,
    "start_time": "2024-03-28T16:20:35.807Z"
   },
   {
    "duration": 15,
    "start_time": "2024-03-28T16:20:35.836Z"
   },
   {
    "duration": 47,
    "start_time": "2024-03-28T16:20:35.852Z"
   },
   {
    "duration": 10,
    "start_time": "2024-03-28T16:20:35.901Z"
   },
   {
    "duration": 25,
    "start_time": "2024-03-28T16:20:35.912Z"
   },
   {
    "duration": 6,
    "start_time": "2024-03-28T16:20:35.939Z"
   },
   {
    "duration": 1304,
    "start_time": "2024-03-30T08:00:40.788Z"
   },
   {
    "duration": 82,
    "start_time": "2024-03-30T08:00:43.098Z"
   },
   {
    "duration": 3,
    "start_time": "2024-03-30T08:00:46.786Z"
   },
   {
    "duration": 13,
    "start_time": "2024-03-30T08:00:49.961Z"
   },
   {
    "duration": 12,
    "start_time": "2024-03-30T08:00:52.447Z"
   },
   {
    "duration": 113,
    "start_time": "2024-03-30T08:00:58.654Z"
   },
   {
    "duration": 89,
    "start_time": "2024-03-30T08:00:59.792Z"
   },
   {
    "duration": 14,
    "start_time": "2024-03-30T08:01:02.017Z"
   },
   {
    "duration": 7,
    "start_time": "2024-03-30T08:01:05.401Z"
   },
   {
    "duration": 5,
    "start_time": "2024-03-30T08:01:06.514Z"
   },
   {
    "duration": 5,
    "start_time": "2024-03-30T08:01:07.589Z"
   },
   {
    "duration": 5,
    "start_time": "2024-03-30T08:01:08.566Z"
   },
   {
    "duration": 3,
    "start_time": "2024-03-30T08:01:10.358Z"
   },
   {
    "duration": 3,
    "start_time": "2024-03-30T08:01:11.258Z"
   },
   {
    "duration": 6,
    "start_time": "2024-03-30T08:01:17.304Z"
   },
   {
    "duration": 5,
    "start_time": "2024-03-30T08:01:19.045Z"
   },
   {
    "duration": 5,
    "start_time": "2024-03-30T08:01:22.308Z"
   },
   {
    "duration": 258,
    "start_time": "2024-03-30T08:01:25.020Z"
   },
   {
    "duration": 393,
    "start_time": "2024-03-30T08:01:26.915Z"
   },
   {
    "duration": 318,
    "start_time": "2024-03-30T08:01:33.090Z"
   },
   {
    "duration": 440,
    "start_time": "2024-03-30T08:01:37.917Z"
   },
   {
    "duration": 345,
    "start_time": "2024-03-30T08:01:43.494Z"
   },
   {
    "duration": 420,
    "start_time": "2024-03-30T08:01:48.576Z"
   },
   {
    "duration": 10,
    "start_time": "2024-03-30T08:01:57.107Z"
   },
   {
    "duration": 190,
    "start_time": "2024-03-30T08:01:59.103Z"
   },
   {
    "duration": 4,
    "start_time": "2024-03-30T08:02:03.120Z"
   },
   {
    "duration": 198,
    "start_time": "2024-03-30T08:02:08.156Z"
   },
   {
    "duration": 4,
    "start_time": "2024-03-30T08:02:14.381Z"
   },
   {
    "duration": 15,
    "start_time": "2024-03-30T08:02:19.077Z"
   },
   {
    "duration": 19,
    "start_time": "2024-03-30T08:02:21.231Z"
   },
   {
    "duration": 25,
    "start_time": "2024-03-30T08:02:24.456Z"
   },
   {
    "duration": 9,
    "start_time": "2024-03-30T08:02:28.458Z"
   },
   {
    "duration": 5,
    "start_time": "2024-03-30T08:02:34.670Z"
   },
   {
    "duration": 4,
    "start_time": "2024-03-30T08:02:37.312Z"
   },
   {
    "duration": 5,
    "start_time": "2024-03-30T08:02:40.756Z"
   },
   {
    "duration": 13,
    "start_time": "2024-03-30T08:02:45.169Z"
   },
   {
    "duration": 23,
    "start_time": "2024-03-30T08:02:49.923Z"
   },
   {
    "duration": 8,
    "start_time": "2024-03-30T08:03:02.541Z"
   },
   {
    "duration": 6,
    "start_time": "2024-03-30T08:03:08.125Z"
   },
   {
    "duration": 4,
    "start_time": "2024-03-30T08:03:09.057Z"
   },
   {
    "duration": 5,
    "start_time": "2024-03-30T09:14:01.396Z"
   },
   {
    "duration": 6,
    "start_time": "2024-03-30T09:34:07.667Z"
   },
   {
    "duration": 6,
    "start_time": "2024-03-30T09:34:29.294Z"
   },
   {
    "duration": 6,
    "start_time": "2024-03-30T09:41:34.923Z"
   },
   {
    "duration": 3,
    "start_time": "2024-03-30T09:44:14.507Z"
   },
   {
    "duration": 4,
    "start_time": "2024-03-30T09:45:27.655Z"
   },
   {
    "duration": 4,
    "start_time": "2024-03-30T09:45:56.001Z"
   },
   {
    "duration": 6,
    "start_time": "2024-03-30T09:51:14.641Z"
   },
   {
    "duration": 7,
    "start_time": "2024-03-30T09:56:28.077Z"
   },
   {
    "duration": 10,
    "start_time": "2024-03-30T09:56:32.093Z"
   },
   {
    "duration": 8,
    "start_time": "2024-03-30T10:12:26.532Z"
   },
   {
    "duration": 4,
    "start_time": "2024-03-30T10:12:28.013Z"
   },
   {
    "duration": 3,
    "start_time": "2024-03-30T10:33:16.602Z"
   },
   {
    "duration": 35,
    "start_time": "2024-03-30T10:33:19.177Z"
   },
   {
    "duration": 4,
    "start_time": "2024-03-30T10:33:23.125Z"
   },
   {
    "duration": 16,
    "start_time": "2024-03-30T10:33:25.486Z"
   },
   {
    "duration": 16,
    "start_time": "2024-03-30T10:33:28.297Z"
   },
   {
    "duration": 64,
    "start_time": "2024-03-30T10:33:35.269Z"
   },
   {
    "duration": 37,
    "start_time": "2024-03-30T10:33:36.369Z"
   },
   {
    "duration": 14,
    "start_time": "2024-03-30T10:33:42.554Z"
   },
   {
    "duration": 6,
    "start_time": "2024-03-30T10:33:46.150Z"
   },
   {
    "duration": 6,
    "start_time": "2024-03-30T10:33:47.127Z"
   },
   {
    "duration": 5,
    "start_time": "2024-03-30T10:33:48.154Z"
   },
   {
    "duration": 5,
    "start_time": "2024-03-30T10:33:49.057Z"
   },
   {
    "duration": 4,
    "start_time": "2024-03-30T10:33:51.717Z"
   },
   {
    "duration": 3,
    "start_time": "2024-03-30T10:33:55.698Z"
   },
   {
    "duration": 7,
    "start_time": "2024-03-30T10:34:02.472Z"
   },
   {
    "duration": 7,
    "start_time": "2024-03-30T10:34:04.690Z"
   },
   {
    "duration": 5,
    "start_time": "2024-03-30T10:34:08.219Z"
   },
   {
    "duration": 288,
    "start_time": "2024-03-30T10:34:10.467Z"
   },
   {
    "duration": 306,
    "start_time": "2024-03-30T10:34:12.833Z"
   },
   {
    "duration": 387,
    "start_time": "2024-03-30T10:34:20.379Z"
   },
   {
    "duration": 423,
    "start_time": "2024-03-30T10:34:25.449Z"
   },
   {
    "duration": 313,
    "start_time": "2024-03-30T10:34:30.460Z"
   },
   {
    "duration": 461,
    "start_time": "2024-03-30T10:34:35.752Z"
   },
   {
    "duration": 10,
    "start_time": "2024-03-30T10:34:41.773Z"
   },
   {
    "duration": 183,
    "start_time": "2024-03-30T10:34:45.209Z"
   },
   {
    "duration": 5,
    "start_time": "2024-03-30T10:34:48.719Z"
   },
   {
    "duration": 193,
    "start_time": "2024-03-30T10:34:53.836Z"
   },
   {
    "duration": 4,
    "start_time": "2024-03-30T10:34:59.539Z"
   },
   {
    "duration": 15,
    "start_time": "2024-03-30T10:35:04.999Z"
   },
   {
    "duration": 19,
    "start_time": "2024-03-30T10:35:07.708Z"
   },
   {
    "duration": 25,
    "start_time": "2024-03-30T10:35:11.444Z"
   },
   {
    "duration": 5,
    "start_time": "2024-03-30T10:35:13.889Z"
   },
   {
    "duration": 9,
    "start_time": "2024-03-30T10:35:22.090Z"
   },
   {
    "duration": 7,
    "start_time": "2024-03-30T10:35:24.107Z"
   },
   {
    "duration": 6,
    "start_time": "2024-03-30T10:35:36.281Z"
   },
   {
    "duration": 4,
    "start_time": "2024-03-30T10:35:37.891Z"
   },
   {
    "duration": 8,
    "start_time": "2024-03-30T10:35:40.670Z"
   },
   {
    "duration": 9,
    "start_time": "2024-03-30T10:35:43.633Z"
   },
   {
    "duration": 23,
    "start_time": "2024-03-30T10:35:45.747Z"
   },
   {
    "duration": 4,
    "start_time": "2024-03-30T10:35:48.013Z"
   },
   {
    "duration": 11,
    "start_time": "2024-03-30T10:35:53.650Z"
   },
   {
    "duration": 9,
    "start_time": "2024-03-30T10:35:56.108Z"
   },
   {
    "duration": 4,
    "start_time": "2024-03-30T10:35:57.633Z"
   },
   {
    "duration": 7,
    "start_time": "2024-03-30T10:36:00.082Z"
   },
   {
    "duration": 1036,
    "start_time": "2024-03-31T06:07:38.691Z"
   },
   {
    "duration": 34,
    "start_time": "2024-03-31T06:07:39.728Z"
   },
   {
    "duration": 8,
    "start_time": "2024-03-31T06:07:39.763Z"
   },
   {
    "duration": 18,
    "start_time": "2024-03-31T06:07:39.774Z"
   },
   {
    "duration": 11,
    "start_time": "2024-03-31T06:07:39.793Z"
   },
   {
    "duration": 43,
    "start_time": "2024-03-31T06:07:39.806Z"
   },
   {
    "duration": 19,
    "start_time": "2024-03-31T06:07:39.851Z"
   },
   {
    "duration": 12,
    "start_time": "2024-03-31T06:07:39.871Z"
   },
   {
    "duration": 6,
    "start_time": "2024-03-31T06:07:39.884Z"
   },
   {
    "duration": 6,
    "start_time": "2024-03-31T06:07:39.893Z"
   },
   {
    "duration": 5,
    "start_time": "2024-03-31T06:07:39.900Z"
   },
   {
    "duration": 16,
    "start_time": "2024-03-31T06:07:39.906Z"
   },
   {
    "duration": 4,
    "start_time": "2024-03-31T06:07:39.923Z"
   },
   {
    "duration": 5,
    "start_time": "2024-03-31T06:07:39.927Z"
   },
   {
    "duration": 12,
    "start_time": "2024-03-31T06:07:39.933Z"
   },
   {
    "duration": 5,
    "start_time": "2024-03-31T06:07:39.946Z"
   },
   {
    "duration": 4,
    "start_time": "2024-03-31T06:07:39.952Z"
   },
   {
    "duration": 228,
    "start_time": "2024-03-31T06:07:39.958Z"
   },
   {
    "duration": 355,
    "start_time": "2024-03-31T06:07:40.188Z"
   },
   {
    "duration": 264,
    "start_time": "2024-03-31T06:07:40.544Z"
   },
   {
    "duration": 357,
    "start_time": "2024-03-31T06:07:40.809Z"
   },
   {
    "duration": 275,
    "start_time": "2024-03-31T06:07:41.168Z"
   },
   {
    "duration": 347,
    "start_time": "2024-03-31T06:07:41.445Z"
   },
   {
    "duration": 15,
    "start_time": "2024-03-31T06:07:41.793Z"
   },
   {
    "duration": 161,
    "start_time": "2024-03-31T06:07:41.809Z"
   },
   {
    "duration": 4,
    "start_time": "2024-03-31T06:07:41.971Z"
   },
   {
    "duration": 182,
    "start_time": "2024-03-31T06:07:41.976Z"
   },
   {
    "duration": 4,
    "start_time": "2024-03-31T06:07:42.161Z"
   },
   {
    "duration": 16,
    "start_time": "2024-03-31T06:07:42.166Z"
   },
   {
    "duration": 25,
    "start_time": "2024-03-31T06:07:42.183Z"
   },
   {
    "duration": 18,
    "start_time": "2024-03-31T06:07:42.209Z"
   },
   {
    "duration": 3,
    "start_time": "2024-03-31T06:07:42.229Z"
   },
   {
    "duration": 6,
    "start_time": "2024-03-31T06:07:42.233Z"
   },
   {
    "duration": 4,
    "start_time": "2024-03-31T06:07:42.241Z"
   },
   {
    "duration": 5,
    "start_time": "2024-03-31T06:07:42.246Z"
   },
   {
    "duration": 3,
    "start_time": "2024-03-31T06:07:42.252Z"
   },
   {
    "duration": 5,
    "start_time": "2024-03-31T06:07:42.256Z"
   },
   {
    "duration": 49,
    "start_time": "2024-03-31T06:07:42.262Z"
   },
   {
    "duration": 26,
    "start_time": "2024-03-31T06:07:42.313Z"
   },
   {
    "duration": 3,
    "start_time": "2024-03-31T06:07:42.340Z"
   },
   {
    "duration": 8,
    "start_time": "2024-03-31T06:07:42.344Z"
   },
   {
    "duration": 5,
    "start_time": "2024-03-31T06:07:42.354Z"
   },
   {
    "duration": 4,
    "start_time": "2024-03-31T06:07:42.360Z"
   },
   {
    "duration": 36,
    "start_time": "2024-03-31T06:07:42.365Z"
   },
   {
    "duration": 1058,
    "start_time": "2024-03-31T06:14:18.478Z"
   },
   {
    "duration": 35,
    "start_time": "2024-03-31T06:14:19.537Z"
   },
   {
    "duration": 3,
    "start_time": "2024-03-31T06:14:19.573Z"
   },
   {
    "duration": 15,
    "start_time": "2024-03-31T06:14:19.577Z"
   },
   {
    "duration": 17,
    "start_time": "2024-03-31T06:14:19.593Z"
   },
   {
    "duration": 46,
    "start_time": "2024-03-31T06:14:19.611Z"
   },
   {
    "duration": 20,
    "start_time": "2024-03-31T06:14:19.659Z"
   },
   {
    "duration": 12,
    "start_time": "2024-03-31T06:14:19.680Z"
   },
   {
    "duration": 14,
    "start_time": "2024-03-31T06:14:19.693Z"
   },
   {
    "duration": 7,
    "start_time": "2024-03-31T06:14:19.709Z"
   },
   {
    "duration": 6,
    "start_time": "2024-03-31T06:14:19.717Z"
   },
   {
    "duration": 5,
    "start_time": "2024-03-31T06:14:19.724Z"
   },
   {
    "duration": 5,
    "start_time": "2024-03-31T06:14:19.730Z"
   },
   {
    "duration": 8,
    "start_time": "2024-03-31T06:14:19.736Z"
   },
   {
    "duration": 12,
    "start_time": "2024-03-31T06:14:19.745Z"
   },
   {
    "duration": 3,
    "start_time": "2024-03-31T06:14:19.758Z"
   },
   {
    "duration": 5,
    "start_time": "2024-03-31T06:14:19.763Z"
   },
   {
    "duration": 238,
    "start_time": "2024-03-31T06:14:19.770Z"
   },
   {
    "duration": 347,
    "start_time": "2024-03-31T06:14:20.009Z"
   },
   {
    "duration": 270,
    "start_time": "2024-03-31T06:14:20.357Z"
   },
   {
    "duration": 353,
    "start_time": "2024-03-31T06:14:20.629Z"
   },
   {
    "duration": 274,
    "start_time": "2024-03-31T06:14:20.984Z"
   },
   {
    "duration": 382,
    "start_time": "2024-03-31T06:14:21.260Z"
   },
   {
    "duration": 9,
    "start_time": "2024-03-31T06:14:21.643Z"
   },
   {
    "duration": 167,
    "start_time": "2024-03-31T06:14:21.654Z"
   },
   {
    "duration": 5,
    "start_time": "2024-03-31T06:14:21.823Z"
   },
   {
    "duration": 196,
    "start_time": "2024-03-31T06:14:21.830Z"
   },
   {
    "duration": 3,
    "start_time": "2024-03-31T06:14:22.029Z"
   },
   {
    "duration": 14,
    "start_time": "2024-03-31T06:14:22.034Z"
   },
   {
    "duration": 17,
    "start_time": "2024-03-31T06:14:22.049Z"
   },
   {
    "duration": 51,
    "start_time": "2024-03-31T06:14:22.068Z"
   },
   {
    "duration": 4,
    "start_time": "2024-03-31T06:14:22.120Z"
   },
   {
    "duration": 7,
    "start_time": "2024-03-31T06:14:22.125Z"
   },
   {
    "duration": 6,
    "start_time": "2024-03-31T06:14:22.133Z"
   },
   {
    "duration": 17,
    "start_time": "2024-03-31T06:14:22.140Z"
   },
   {
    "duration": 8,
    "start_time": "2024-03-31T06:14:22.158Z"
   },
   {
    "duration": 6,
    "start_time": "2024-03-31T06:14:22.167Z"
   },
   {
    "duration": 20,
    "start_time": "2024-03-31T06:14:22.174Z"
   },
   {
    "duration": 39,
    "start_time": "2024-03-31T06:14:22.196Z"
   },
   {
    "duration": 4,
    "start_time": "2024-03-31T06:14:22.236Z"
   },
   {
    "duration": 6,
    "start_time": "2024-03-31T06:14:22.241Z"
   },
   {
    "duration": 6,
    "start_time": "2024-03-31T06:14:22.248Z"
   },
   {
    "duration": 6,
    "start_time": "2024-03-31T06:14:22.255Z"
   },
   {
    "duration": 24,
    "start_time": "2024-03-31T06:14:22.262Z"
   },
   {
    "duration": 962,
    "start_time": "2024-03-31T06:17:21.455Z"
   },
   {
    "duration": 33,
    "start_time": "2024-03-31T06:17:22.419Z"
   },
   {
    "duration": 2,
    "start_time": "2024-03-31T06:17:22.454Z"
   },
   {
    "duration": 11,
    "start_time": "2024-03-31T06:17:22.458Z"
   },
   {
    "duration": 21,
    "start_time": "2024-03-31T06:17:22.470Z"
   },
   {
    "duration": 57,
    "start_time": "2024-03-31T06:17:22.492Z"
   },
   {
    "duration": 75,
    "start_time": "2024-03-31T06:17:22.550Z"
   },
   {
    "duration": 12,
    "start_time": "2024-03-31T06:17:22.626Z"
   },
   {
    "duration": 10,
    "start_time": "2024-03-31T06:17:22.640Z"
   },
   {
    "duration": 25,
    "start_time": "2024-03-31T06:17:22.652Z"
   },
   {
    "duration": 23,
    "start_time": "2024-03-31T06:17:22.678Z"
   },
   {
    "duration": 7,
    "start_time": "2024-03-31T06:17:22.702Z"
   },
   {
    "duration": 8,
    "start_time": "2024-03-31T06:17:22.710Z"
   },
   {
    "duration": 32,
    "start_time": "2024-03-31T06:17:22.719Z"
   },
   {
    "duration": 30,
    "start_time": "2024-03-31T06:17:22.752Z"
   },
   {
    "duration": 20,
    "start_time": "2024-03-31T06:17:22.783Z"
   },
   {
    "duration": 12,
    "start_time": "2024-03-31T06:17:22.804Z"
   },
   {
    "duration": 238,
    "start_time": "2024-03-31T06:17:22.817Z"
   },
   {
    "duration": 320,
    "start_time": "2024-03-31T06:17:23.056Z"
   },
   {
    "duration": 266,
    "start_time": "2024-03-31T06:17:23.378Z"
   },
   {
    "duration": 331,
    "start_time": "2024-03-31T06:17:23.646Z"
   },
   {
    "duration": 264,
    "start_time": "2024-03-31T06:17:23.978Z"
   },
   {
    "duration": 360,
    "start_time": "2024-03-31T06:17:24.243Z"
   },
   {
    "duration": 10,
    "start_time": "2024-03-31T06:17:24.605Z"
   },
   {
    "duration": 170,
    "start_time": "2024-03-31T06:17:24.616Z"
   },
   {
    "duration": 3,
    "start_time": "2024-03-31T06:17:24.787Z"
   },
   {
    "duration": 263,
    "start_time": "2024-03-31T06:17:24.802Z"
   },
   {
    "duration": 4,
    "start_time": "2024-03-31T06:17:25.068Z"
   },
   {
    "duration": 40,
    "start_time": "2024-03-31T06:17:25.073Z"
   },
   {
    "duration": 17,
    "start_time": "2024-03-31T06:17:25.115Z"
   },
   {
    "duration": 18,
    "start_time": "2024-03-31T06:17:25.133Z"
   },
   {
    "duration": 3,
    "start_time": "2024-03-31T06:17:25.153Z"
   },
   {
    "duration": 7,
    "start_time": "2024-03-31T06:17:25.157Z"
   },
   {
    "duration": 5,
    "start_time": "2024-03-31T06:17:25.165Z"
   },
   {
    "duration": 31,
    "start_time": "2024-03-31T06:17:25.171Z"
   },
   {
    "duration": 4,
    "start_time": "2024-03-31T06:17:25.204Z"
   },
   {
    "duration": 10,
    "start_time": "2024-03-31T06:17:25.209Z"
   },
   {
    "duration": 9,
    "start_time": "2024-03-31T06:17:25.221Z"
   },
   {
    "duration": 19,
    "start_time": "2024-03-31T06:17:25.231Z"
   },
   {
    "duration": 3,
    "start_time": "2024-03-31T06:17:25.251Z"
   },
   {
    "duration": 8,
    "start_time": "2024-03-31T06:17:25.255Z"
   },
   {
    "duration": 6,
    "start_time": "2024-03-31T06:17:25.264Z"
   },
   {
    "duration": 11,
    "start_time": "2024-03-31T06:17:25.271Z"
   },
   {
    "duration": 6,
    "start_time": "2024-03-31T06:17:25.302Z"
   },
   {
    "duration": 970,
    "start_time": "2024-03-31T06:17:49.264Z"
   },
   {
    "duration": 33,
    "start_time": "2024-03-31T06:17:50.236Z"
   },
   {
    "duration": 3,
    "start_time": "2024-03-31T06:17:50.271Z"
   },
   {
    "duration": 11,
    "start_time": "2024-03-31T06:17:50.276Z"
   },
   {
    "duration": 11,
    "start_time": "2024-03-31T06:17:50.288Z"
   },
   {
    "duration": 53,
    "start_time": "2024-03-31T06:17:50.300Z"
   },
   {
    "duration": 22,
    "start_time": "2024-03-31T06:17:50.354Z"
   },
   {
    "duration": 18,
    "start_time": "2024-03-31T06:17:50.377Z"
   },
   {
    "duration": 8,
    "start_time": "2024-03-31T06:17:50.397Z"
   },
   {
    "duration": 9,
    "start_time": "2024-03-31T06:17:50.407Z"
   },
   {
    "duration": 6,
    "start_time": "2024-03-31T06:17:50.418Z"
   },
   {
    "duration": 5,
    "start_time": "2024-03-31T06:17:50.425Z"
   },
   {
    "duration": 3,
    "start_time": "2024-03-31T06:17:50.432Z"
   },
   {
    "duration": 4,
    "start_time": "2024-03-31T06:17:50.436Z"
   },
   {
    "duration": 10,
    "start_time": "2024-03-31T06:17:50.441Z"
   },
   {
    "duration": 17,
    "start_time": "2024-03-31T06:17:50.452Z"
   },
   {
    "duration": 3,
    "start_time": "2024-03-31T06:17:50.471Z"
   },
   {
    "duration": 243,
    "start_time": "2024-03-31T06:17:50.475Z"
   },
   {
    "duration": 322,
    "start_time": "2024-03-31T06:17:50.719Z"
   },
   {
    "duration": 266,
    "start_time": "2024-03-31T06:17:51.042Z"
   },
   {
    "duration": 359,
    "start_time": "2024-03-31T06:17:51.309Z"
   },
   {
    "duration": 292,
    "start_time": "2024-03-31T06:17:51.669Z"
   },
   {
    "duration": 381,
    "start_time": "2024-03-31T06:17:51.963Z"
   },
   {
    "duration": 11,
    "start_time": "2024-03-31T06:17:52.346Z"
   },
   {
    "duration": 172,
    "start_time": "2024-03-31T06:17:52.358Z"
   },
   {
    "duration": 4,
    "start_time": "2024-03-31T06:17:52.532Z"
   },
   {
    "duration": 178,
    "start_time": "2024-03-31T06:17:52.537Z"
   },
   {
    "duration": 4,
    "start_time": "2024-03-31T06:17:52.717Z"
   },
   {
    "duration": 12,
    "start_time": "2024-03-31T06:17:52.722Z"
   },
   {
    "duration": 15,
    "start_time": "2024-03-31T06:17:52.735Z"
   },
   {
    "duration": 19,
    "start_time": "2024-03-31T06:17:52.751Z"
   },
   {
    "duration": 2,
    "start_time": "2024-03-31T06:17:52.772Z"
   },
   {
    "duration": 29,
    "start_time": "2024-03-31T06:17:52.775Z"
   },
   {
    "duration": 6,
    "start_time": "2024-03-31T06:17:52.805Z"
   },
   {
    "duration": 10,
    "start_time": "2024-03-31T06:17:52.812Z"
   },
   {
    "duration": 5,
    "start_time": "2024-03-31T06:17:52.823Z"
   },
   {
    "duration": 5,
    "start_time": "2024-03-31T06:17:52.829Z"
   },
   {
    "duration": 10,
    "start_time": "2024-03-31T06:17:52.835Z"
   },
   {
    "duration": 19,
    "start_time": "2024-03-31T06:17:52.846Z"
   },
   {
    "duration": 3,
    "start_time": "2024-03-31T06:17:52.866Z"
   },
   {
    "duration": 8,
    "start_time": "2024-03-31T06:17:52.870Z"
   },
   {
    "duration": 25,
    "start_time": "2024-03-31T06:17:52.879Z"
   },
   {
    "duration": 14,
    "start_time": "2024-03-31T06:17:52.905Z"
   },
   {
    "duration": 7,
    "start_time": "2024-03-31T06:17:52.920Z"
   }
  ],
  "kernelspec": {
   "display_name": "Python 3 (ipykernel)",
   "language": "python",
   "name": "python3"
  },
  "language_info": {
   "codemirror_mode": {
    "name": "ipython",
    "version": 3
   },
   "file_extension": ".py",
   "mimetype": "text/x-python",
   "name": "python",
   "nbconvert_exporter": "python",
   "pygments_lexer": "ipython3",
   "version": "3.9.18"
  },
  "toc": {
   "base_numbering": 1,
   "nav_menu": {},
   "number_sections": true,
   "sideBar": true,
   "skip_h1_title": true,
   "title_cell": "Table of Contents",
   "title_sidebar": "Contents",
   "toc_cell": false,
   "toc_position": {},
   "toc_section_display": true,
   "toc_window_display": false
  },
  "widgets": {
   "application/vnd.jupyter.widget-state+json": {
    "state": {},
    "version_major": 2,
    "version_minor": 0
   }
  }
 },
 "nbformat": 4,
 "nbformat_minor": 4
}
